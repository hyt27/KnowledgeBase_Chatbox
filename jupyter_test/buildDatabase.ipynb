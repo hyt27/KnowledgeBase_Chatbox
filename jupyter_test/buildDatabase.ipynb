{
 "cells": [
  {
   "cell_type": "code",
   "execution_count": null,
   "id": "cc927c75",
   "metadata": {},
   "outputs": [],
   "source": [
    "from langchain.document_loaders import UnstructuredFileLoader\n",
    "from langchain.document_loaders import UnstructuredMarkdownLoader\n",
    "from langchain_community.document_loaders.csv_loader import CSVLoader\n",
    "from langchain_community.document_loaders import JSONLoader\n",
    "from langchain_community.document_loaders import PyPDFLoader\n",
    "from langchain_community.document_loaders.image import UnstructuredImageLoader\n",
    "from langchain.text_splitter import RecursiveCharacterTextSplitter\n",
    "from langchain.vectorstores import Chroma\n",
    "from langchain.embeddings.huggingface import HuggingFaceEmbeddings\n",
    "from tqdm import tqdm\n",
    "import os\n",
    "\n",
    "# 获取文件路径函数\n",
    "def get_files(dir_path):\n",
    "    # args：dir_path，目标文件夹路径\n",
    "    file_list = []\n",
    "    for filepath, dirnames, filenames in os.walk(dir_path):\n",
    "        # os.walk 函数将递归遍历指定文件夹\n",
    "        for filename in filenames:\n",
    "            # 通过后缀名判断文件类型是否满足要求\n",
    "            #if filename.endswith(\".md\"):\n",
    "                # 如果满足要求，将其绝对路径加入到结果列表\n",
    "            #    file_list.append(os.path.join(filepath, filename))\n",
    "            #elif filename.endswith(\".txt\"):\n",
    "            #    file_list.append(os.path.join(filepath, filename))\n",
    "            file_list.append(os.path.join(filepath, filename))\n",
    "    return file_list\n",
    "\n",
    "# 加载文件函数\n",
    "def get_text(dir_path):\n",
    "    # args：dir_path，目标文件夹路径\n",
    "    # 首先调用上文定义的函数得到目标文件路径列表\n",
    "    file_lst = get_files(dir_path)\n",
    "    # docs 存放加载之后的纯文本对象\n",
    "    docs = []\n",
    "    # 遍历所有目标文件\n",
    "    for one_file in tqdm(file_lst):\n",
    "        file_type = one_file.split('.')[-1]\n",
    "        if file_type == 'md':\n",
    "            loader = UnstructuredMarkdownLoader(one_file)\n",
    "        elif file_type == 'txt':\n",
    "            loader = UnstructuredFileLoader(one_file)\n",
    "        elif file_type == 'csv':\n",
    "            loader = CSVLoader(one_file) \n",
    "        #elif file_type == 'json':\n",
    "        #    loader = JSONLoader(one_file) \n",
    "        elif file_type == 'pdf':\n",
    "            loader = PyPDFLoader(one_file) \n",
    "        elif file_type == 'png' or file_type == 'jpg':\n",
    "            loader = UnstructuredImageLoader(one_file) \n",
    "        else:\n",
    "            # 如果是不符合条件的文件，直接跳过\n",
    "            continue\n",
    "        docs.extend(loader.load())\n",
    "    return docs\n",
    "\n",
    "# 目标文件夹\n",
    "tar_dir = [\n",
    "    \"/home/lrctadmin/Documents/LLM/self-llm/models/Qwen/Langchain/knowledgebase\"\n",
    "]\n",
    "\n",
    "\n",
    "# 加载目标文件\n",
    "docs = []\n",
    "for dir_path in tar_dir:\n",
    "    docs.extend(get_text(dir_path))\n"
   ]
  },
  {
   "cell_type": "code",
   "execution_count": 1,
   "id": "6cd04343",
   "metadata": {},
   "outputs": [],
   "source": [
    "from pdfminer.utils import open_filename"
   ]
  },
  {
   "cell_type": "code",
   "execution_count": 2,
   "id": "ff869093",
   "metadata": {},
   "outputs": [],
   "source": [
    "from pdfminer.pdfdevice import PDFDevice\n",
    "from pdfminer.pdfinterp import PDFResourceManager, PDFPageInterpreter\n",
    "from pdfminer.pdfpage import PDFPage\n",
    "from pdfminer.pdfparser import PDFParser"
   ]
  },
  {
   "cell_type": "markdown",
   "id": "536ecc3b",
   "metadata": {},
   "source": [
    "# run"
   ]
  },
  {
   "cell_type": "code",
   "execution_count": 1,
   "id": "dd34f258",
   "metadata": {},
   "outputs": [],
   "source": [
    "from langchain.document_loaders import UnstructuredFileLoader\n",
    "from langchain.document_loaders import UnstructuredMarkdownLoader\n",
    "from langchain_community.document_loaders.csv_loader import CSVLoader\n",
    "from langchain_community.document_loaders import JSONLoader\n",
    "from langchain_community.document_loaders import PyPDFLoader\n",
    "from langchain_community.document_loaders.image import UnstructuredImageLoader\n",
    "from langchain.text_splitter import RecursiveCharacterTextSplitter\n",
    "from langchain.vectorstores import Chroma\n",
    "from langchain.embeddings.huggingface import HuggingFaceEmbeddings\n",
    "from tqdm import tqdm\n",
    "import os"
   ]
  },
  {
   "cell_type": "code",
   "execution_count": 2,
   "id": "12a17f32",
   "metadata": {},
   "outputs": [],
   "source": [
    "# 获取文件路径函数\n",
    "def get_files(dir_path):\n",
    "    # args：dir_path，目标文件夹路径\n",
    "    file_list = []\n",
    "    for filepath, dirnames, filenames in os.walk(dir_path):\n",
    "        # os.walk 函数将递归遍历指定文件夹\n",
    "        for filename in filenames:\n",
    "            # 通过后缀名判断文件类型是否满足要求\n",
    "            #if filename.endswith(\".md\"):\n",
    "                # 如果满足要求，将其绝对路径加入到结果列表\n",
    "            #    file_list.append(os.path.join(filepath, filename))\n",
    "            #elif filename.endswith(\".txt\"):\n",
    "            #    file_list.append(os.path.join(filepath, filename))\n",
    "            file_list.append(os.path.join(filepath, filename))\n",
    "    return file_list"
   ]
  },
  {
   "cell_type": "code",
   "execution_count": 3,
   "id": "54da97a9",
   "metadata": {},
   "outputs": [],
   "source": [
    "# 加载文件函数\n",
    "def get_text(dir_path):\n",
    "    # args：dir_path，目标文件夹路径\n",
    "    # 首先调用上文定义的函数得到目标文件路径列表\n",
    "    file_lst = get_files(dir_path)\n",
    "    # docs 存放加载之后的纯文本对象\n",
    "    docs = []\n",
    "    # 遍历所有目标文件\n",
    "    for one_file in tqdm(file_lst):\n",
    "        file_type = one_file.split('.')[-1]\n",
    "        #if file_type == 'md':\n",
    "        #    loader = UnstructuredMarkdownLoader(one_file)\n",
    "        #elif file_type == 'txt':\n",
    "        #    loader = UnstructuredFileLoader(one_file)\n",
    "        #elif file_type == 'csv':\n",
    "        #    loader = CSVLoader(one_file) \n",
    "        #elif file_type == 'json':\n",
    "        #    loader = JSONLoader(one_file) \n",
    "        if file_type == 'pdf':\n",
    "            loader = PyPDFLoader(one_file) \n",
    "        #if file_type == 'png' or file_type == 'jpg':\n",
    "        #    loader = UnstructuredImageLoader(one_file) \n",
    "        else:\n",
    "            # 如果是不符合条件的文件，直接跳过\n",
    "            continue\n",
    "        docs.extend(loader.load())\n",
    "    return docs"
   ]
  },
  {
   "cell_type": "code",
   "execution_count": 4,
   "id": "ff04eaf2",
   "metadata": {},
   "outputs": [],
   "source": [
    "# 目标文件夹\n",
    "tar_dir = [\n",
    "    \"/home/lrctadmin/Documents/LLM/self-llm/models/Qwen/Langchain/knowledgebase\"\n",
    "]"
   ]
  },
  {
   "cell_type": "code",
   "execution_count": 5,
   "id": "1d8d10a7",
   "metadata": {
    "scrolled": false
   },
   "outputs": [
    {
     "name": "stderr",
     "output_type": "stream",
     "text": [
      "100%|███████████████████████████████████████████| 16/16 [00:00<00:00, 17.33it/s]\n"
     ]
    }
   ],
   "source": [
    "# 加载目标文件\n",
    "docs = []\n",
    "for dir_path in tar_dir:\n",
    "    docs.extend(get_text(dir_path))\n",
    "\n"
   ]
  },
  {
   "cell_type": "code",
   "execution_count": 6,
   "id": "883aa470",
   "metadata": {
    "scrolled": false
   },
   "outputs": [
    {
     "data": {
      "text/plain": [
       "[Document(metadata={'source': '/home/lrctadmin/Documents/LLM/self-llm/models/Qwen/Langchain/knowledgebase/Waffle LEDs manualai-1.0.pdf', 'page': 0}, page_content='智能安全帶使用方法\\n安全帶啟動步驟\\n黑色電池插入安全帶前, 黑色電池應\\n是處於紅色呼吸燈狀態。使用者可在平台查看最後黑色\\n電池於安全帶上運作的電量,如\\n下圖,黑色電池上次使用時為53%\\n如黑色電池處於滿電, 充電站代表\\n黑色電池的燈會自動關掉或閃爍綠\\n燈, 如未滿電, 則會長亮綠燈。1\\n3\\n4\\n1\\n12\\n檢查勾(hook)電量方式:檢查黑色電池(brooch)電量方式:\\n2\\n2\\n紅色呼吸燈\\n代表有電！\\n一號位會因應電量有相對led燈顯示\\n綠燈會\\n依電量閃\\n有電時\\n會有藍燈拍卡按鈕\\n按下然後\\n鬆開如果電池插入安全帶完成啟動後(黑色電池燈會在安全帶\\n完成啟動後關掉所有呼吸燈), 可按一下拍卡按鈕, 黑色電\\n池上六角形綠燈會依電量顯示閃燈速度。\\n檢驗所有元件功能完整後,工人應先正確戴好\\n安全帶於身上,勾電池蓋螺絲也要完全鎖上。\\n工人自己或由其他同事幫忙可按下彈簧扣並拉\\n出黑色電池插座的上蓋。使用勾前, 可鬆開電池蓋防脫螺絲\\n(螺絲為防脫螺絲, 不用完全脫出), \\n先檢查勾內是否有電池, 再檢查電\\n池擺放方向是否正確, 最後如電池\\n有電, 勾會於合上電池蓋時亮出藍燈。如果安全帶完成\\n啟動並上網後, \\n可於網上平台查\\n看勾現時的電量。a.100%-50%時會長亮   b.50%-20%會一秒閃一次\\nc.少於20%會半秒閃一次\\n電池安\\n裝方向\\n防脫螺絲\\n上蓋\\n按下彈簧扣並\\n向上拉出上蓋'),\n",
       " Document(metadata={'source': '/home/lrctadmin/Documents/LLM/self-llm/models/Qwen/Langchain/knowledgebase/Waffle LEDs manualai-1.0.pdf', 'page': 1}, page_content='安全帶功能介紹\\n34插入後,盡量把勾上 RFID\\n標籤盡量靠近身上的正方\\n形裝置。將黑色電池處於紅色呼吸\\n燈狀態時按正確方向放入\\n並合上上蓋\\n如在網絡覆蓋良好位置中,\\n一到兩分鐘後安全帶會在\\n平台顯示上線\\n⚠如依以上方法用工人證拍卡都不能成功,請立刻聯絡LR有關同事作跟進當安全帶完成啟動後(黑色電池燈會在\\n安全帶完成啟動後關掉所有呼吸燈)如此時安全\\n帶正在上網,\\n可在平台觀\\n察到工人名字\\n如此時安全帶正在上網,可在平台觀察到工人名字按一下黑色電池上拍卡按鈕(按一下然\\n後放開,不要長按!!), 長條型燈罩會開\\n始閃爍(大約3秒),於閃爍時拍上工人注冊證靜候大約一分鐘, 黑色電池會由紅色呼吸燈轉成綠色呼吸燈,而此時代\\n表黑色電池正在依RFID標籤找勾(換言之開機時每一條安全帶都不要\\n太靠近,最好隔開 1.5 米才插 入黑色電池開機) 找到勾後,黑色電池會\\n由綠燈變藍燈閃一下然後關燈。5\\n6\\n1\\n2\\n3\\nSOS\\n於任何時候,無論黑色電池時否插入\\n安全帶時,透過長按左右兩邊按鈕兩\\n秒後鬆開(一定要鬆開!!)黑色電池會\\n開始以摩斯密碼不斷響咇咇聲及閃\\n紅燈。如黑色電池觸發時已經插入\\n安全帶並正在上網,可於平台觀察到\\n SOS\\n紅轉綠，\\n找到勾後\\n會閃一下\\n藍燈\\n勾最後上線時間\\n安全帶最後上線時間\\n工人名及證件Number\\n4讀卡時此燈會閃爍\\n按下拍卡\\n紅色\\n開始閃爍如想取消\\n長按2秒後鬆開\\n兩邊長按\\n2秒後鬆開\\n會不斷以三長\\n三短嗶嗶聲RFID標籤\\n成功=閃綠燈\\n失敗=閃藍燈\\n如取消失敗,會聽到\\n咇咇聲消失,換成長響,\\n此時需重新觸發多次\\n步驟 1, 2。如取消成功,則所有\\n燈及咇咇聲消失'),\n",
       " Document(metadata={'source': '/home/lrctadmin/Documents/LLM/self-llm/models/Qwen/Langchain/knowledgebase/Waffle LEDs manualai-1.0.pdf', 'page': 2}, page_content=''),\n",
       " Document(metadata={'source': '/home/lrctadmin/Documents/LLM/self-llm/models/Qwen/Langchain/knowledgebase/Waffle LEDs manualai-1.0.pdf', 'page': 3}, page_content=''),\n",
       " Document(metadata={'source': '/home/lrctadmin/Documents/LLM/self-llm/models/Qwen/Langchain/knowledgebase/生肖.pdf', 'page': 0}, page_content='《十二生肖的故事》  \\n故事撮寫 : \\n很久很久以前 ，人們總是 忘記自己出生在哪一年 ，也算不\\n清自己究竟幾 歲。玉皇大帝 找出一個辦法 ：他歡迎所有動物 參加\\n渡河比賽 ，最快到達終點 的十二隻 動物就可以成為代表 年份的生\\n肖。於是，他通知土地公去選拔 十二生肖的消息。 \\n \\n消息公佈以後 ，所有的動物都很興奮 ，大家鬧哄哄的 討論\\n渡河比賽 的事。當時，貓和老鼠是很好的朋友 ，他們聚在一起討\\n論。老鼠說： 「我們不會 游泳，怎樣渡河呢﹖」貓說：「可以跟牛\\n合作，我們幫他指路，他載我們渡河。 」於是，貓和老鼠找牛 幫\\n助，牛立刻答應 了。 \\n \\n到了比賽當天 ，一大清早，公雞還沒睡醒， 牛、貓和老鼠\\n就已經來到河邊 。貓和老鼠爬上牛背渡河 。貓因為起得早，很快\\n就在牛背上睡 着了。老鼠很想得到第一名 ，當牛快要抵達河岸時，\\n他突然把貓 推下水，然後鑽進牛耳朵裏 。牛並不知道 發生了什麼\\n事，只聽到老鼠在牛耳朵裏喊着 ：「牛大哥，加油﹗我們快到了 。」\\n牛爬上對岸，高興的衝向 終點。老鼠突然從牛耳朵裏跳出來 ，搶\\n先抵達終點得到第一名 。牛辛苦了半天，只得到第二名 ，非常生\\n氣，從此就一直瞪着大眼睛 。 \\n \\n過了一會兒，全身濕淋淋的老虎來了，他很有自信的吼着 ：\\n「我得第一名 。」玉皇大帝 說：「不﹗你得第三名 。」突然間，天\\n空捲起一陣狂風 ，龍從天而降，快要抵達 终點時，被兔子搶先一\\n步，最後只得第五名。玉皇大帝 問龍：「你會飛，為何這麼晚才到\\n達呢﹖」龍回答:「我去了遙遠的南海主持下雨典禮 。」相反不會\\n游泳的兔子，只是一路跳呀跳 ，踩着別人的背渡河 ，竟然比龍快，\\n得到第四名。 \\n '),\n",
       " Document(metadata={'source': '/home/lrctadmin/Documents/LLM/self-llm/models/Qwen/Langchain/knowledgebase/生肖.pdf', 'page': 1}, page_content='突然傳來 一陣馬啼聲，馬正要衝向終點時 ，蛇突然從草叢\\n裏鑽出來 ，搶先得到第六名 ，而馬就只得第七名 。蛇本來沒有腳，\\n這次跑得太賣力，把腳都跑斷了 。馬本來很 勇敢，但這次被蛇嚇\\n到，從此變得很膽小 。 \\n \\n這時，羊、猴和雞在河邊撿到一根木頭，大家通力合作，\\n分別得到第八、第九及第十名。 羊坐在最前面指路 ，因為羊看得\\n太用力，變成一個大近視。猴子在木頭上坐得太久，屁股變得又\\n紅又腫；雞本來有四隻腳 ，上岸的時侯給壓斷了兩隻，所以現在\\n只剩下兩隻腳。 由於小狗 貪玩，在渡河的時候 ，泡在河裏玩水 ，\\n耽誤了時間 ，所以只得第十一名 。 \\n \\n一會兒，豬滿頭大汗，喘着氣 到達終點，並嚷着肚餓要找\\n食物吃，最後得到第 十二名。比賽結束了，正當玉皇大帝 宣佈十\\n二生肖的 名次時，貓趕到來 ，只得第十三名。貓非常生氣 ，揮爪\\n撲向老鼠，把老鼠的 牙打斷了。 \\n \\n老鼠雖然得到第一名 ，從此，每天提心吊膽，怕貓 會找牠\\n報仇；直到今天，老鼠 看到貓的影子，就沒命的跑 ，連白天也 躲\\n在洞裏不敢出來 。 \\n \\n '),\n",
       " Document(metadata={'source': '/home/lrctadmin/Documents/LLM/self-llm/models/Qwen/Langchain/knowledgebase/8-9 安全帶及其繫穩系統的分類與使用指引_勞工處 Oct 2018 1.pdf', 'page': 0}, page_content='- 1 -I. 引言\\n工人在高空工作時，最容易遇上的危險便是從高處墮下。本港的安全規\\n例規定僱主必須採取的 基本安全措施包括：提供適合的工作平台、安全\\n進出口及在危險的地方架設適當的護欄 。如提供工作平台、進出口及安\\n全工作場地並不切實可行，才可使用安全網及安全帶。\\n法例規定在下述情況下須使用安全帶：\\n(i) 在《建築地盤（安全）規例》第38B(1)或(1A)條所規定須採取足夠的步驟防止該地盤內有任何人從高度不少於2米之處墮下不屬切實可行；\\n(ii) 在《建築地盤（安全）規例》第38C條所規定須提供並確保有使用作支持用的安全設施不屬切實可行；\\n(iii) 根據《工廠及工業經營（吊船）規例》第15條的規定使用吊船；\\n(iv) 根據《工廠及工業經營（起重機械及起重裝置）規例》第18B(1)條的規定，使用深度少於900毫米的盛器載人，而該盛器以起重機械操作；及\\n(v) 根據《工廠及工業經營（密閉空間﹚規例》第9(b)條的規定，在密閉空間進行地底喉管工作。\\n其他需要使用安全帶但法例沒有定明的例子如下：\\n(i) 根據《工廠及工業經營（貨物及貨櫃搬運）規例》第10B 條的規定，在處理貨物或貨櫃時在貨櫃頂上工作；\\n(ii) 根據《工廠及工業經營規例》第24(a)條的規定，在需要其他防護的危險地方工作；及'),\n",
       " Document(metadata={'source': '/home/lrctadmin/Documents/LLM/self-llm/models/Qwen/Langchain/knowledgebase/8-9 安全帶及其繫穩系統的分類與使用指引_勞工處 Oct 2018 1.pdf', 'page': 1}, page_content='- 2 -(iii) 根據《職業安全及健康規例》第6(1)條的規定，在需要其\\n他防護的危險地方工作。\\n本指引所述的「\\u3000\\u3000\\u3000 安全帶 」泛指下列各類吊帶及帶：\\n(i) 安全吊帶或稱全身式吊帶；\\n(ii) 半身式吊帶或稱上身式吊帶；\\n(iii) 拯救用吊帶；\\n(iv) 定位式安全帶、柱上安全帶或電訊工安全帶；以及\\n(\\nv) 一般用途安全帶。\\n安全帶 包括懸掛繩。當安全帶與適當的繫穩系統一起使用時，便構成\\n個人的防墮系統。\\n本指引內提及「 合資格的人\\u3000\\u3000\\u3000\\u3000\\u3000 」應該是一位人士擁有知識和經驗去分辨及\\n使用安全帶，有足夠資歷確定及選擇不同種類的繫穩系統來配合安全\\n帶的使用，並有能力檢查安全帶及其繫穩系統上的表面損壞。\\n本指引內提及的「 專業工程\\u3000\\u3000\\u3000\\u3000\\u3000 師」，他須是屬於有關界別的香港工程師學\\n會會員，或同等資歷。\\n本指引提供多 個國家安全標準 所定繫穩系統部分的構造、\\n安全帶的種\\n類、 用途及規格的資料。由於安全帶是由不同國家輸入的，符合個 別國\\n家安全標準所定規格的安全帶；例如美國標準、歐盟標準、美國國家標\\n準、日本工業標準、日本勞働省的安全標準、中華人民共和國國家標準\\n或其等同標準，才是適合或符合法例規定的安全帶。雖然本指引引用英\\n國標準或歐盟標準，其他等同的國家標準或國際標準亦可以遵照。'),\n",
       " Document(metadata={'source': '/home/lrctadmin/Documents/LLM/self-llm/models/Qwen/Langchain/knowledgebase/1 安全帶及其繫穩系統的分類與使用指引_勞工處 Oct 2018.pdf', 'page': 0}, page_content=''),\n",
       " Document(metadata={'source': '/home/lrctadmin/Documents/LLM/self-llm/models/Qwen/Langchain/knowledgebase/1 安全帶及其繫穩系統的分類與使用指引_勞工處 Oct 2018.pdf', 'page': 1}, page_content='本指引由勞工處職業安全及健康部編印\\n1998 年 11 月初版\\n2005 年 1 月第二版2018 年 10 月第三版（本修訂版主要為插圖內工人配戴的安全帽加上帽帶。）\\n本指引可以在勞工處職業安全及健康部各辦事處免費索取，亦可於\\n勞工處網站 http://www.labour.gov.hk/tc/public/content2_8c.htm 直接下載。有關各辦事處的地址及查詢電話，可參考勞工處網站http://www.labour.gov.hk/tc/tele/osh.htm 或致電 2559 2297。\\n歡迎複印本指引，但作廣告、批核或商業用途者除外。如需複印，請註明錄自勞工處刊物《安全帶及其繫穩系統的分類與使用指引》。'),\n",
       " Document(metadata={'source': '/home/lrctadmin/Documents/LLM/self-llm/models/Qwen/Langchain/knowledgebase/1 安全帶及其繫穩系統的分類與使用指引_勞工處 Oct 2018.pdf', 'page': 2}, page_content='安全帶及其繫穩系統的\\n分類與使用指引'),\n",
       " Document(metadata={'source': '/home/lrctadmin/Documents/LLM/self-llm/models/Qwen/Langchain/knowledgebase/1 安全帶及其繫穩系統的分類與使用指引_勞工處 Oct 2018.pdf', 'page': 3}, page_content='目 錄\\n頁次\\nI. 引言 1\\nII. 選擇工業用安全帶及其繫穩系統 3\\n(1)考慮使用安全網 3\\n(2)計劃 3\\n(3)選擇 4\\nIII. 裝備的使用 6\\n(1)製造商說明書 6\\n(2)訓練 6\\n(3)檢查、檢驗及監督 7\\n(4)安全要點 8\\nIV. 安全帶的分類 11\\n(1)安全吊帶或全身式吊帶 12\\n(2)半身式吊帶或上身式吊帶 13\\n(3)一般用途安全帶 14\\n(4)定位式安全帶、柱上 / 電訊工安全帶 15\\n(5)拯救用安全吊帶 16'),\n",
       " Document(metadata={'source': '/home/lrctadmin/Documents/LLM/self-llm/models/Qwen/Langchain/knowledgebase/1 安全帶及其繫穩系統的分類與使用指引_勞工處 Oct 2018.pdf', 'page': 4}, page_content='V. 安全帶的繫穩物 17\\n(1) 固定繫穩物 18\\n(2) 垂直獨立救生繩 21\\n(3) 平行救生繩（導索） 22\\n(4) 防墮裝置 23\\n(a\\n)伸縮式防墮裝置 24\\n(b) 固定繫穩管線上的導向式防墮裝置 26\\n(c) 彈性繫穩管線上的導向式防墮裝置 27\\nVI. 使用安全帶及其繫穩物之實際例子 29\\n(1) 使用固定繫穩物之例子 29\\n(2) 垂直獨立救生繩 30\\n(3) 導索 32\\n(4) 伸縮式防墮裝置 33\\n(5) 固定繫穩管線上的導向式防墮裝置 34'),\n",
       " Document(metadata={'source': '/home/lrctadmin/Documents/LLM/self-llm/models/Qwen/Langchain/knowledgebase/1 安全帶及其繫穩系統的分類與使用指引_勞工處 Oct 2018.pdf', 'page': 5}, page_content='附錄 1 35\\n(a)符合歐盟標準 EN361：2002 所定規格的全身式吊帶 35\\n(b)符合澳洲 / 新西蘭標準 AS/NZS1891.1：1995 所定規格\\n的安全吊帶36\\n(c\\n)符合美國國家標準協會 ANSI A10.14-1991 所定規格的\\n安全吊帶37\\n(d)符合中華人民共和國國家標準 GB6095-85 所定規格的安全吊帶39\\n(e)日本的吊帶式安全帶 41\\n附錄 2 42\\n(a)日本的上身式吊帶 42\\n(b)符合美國國家標準協會 ANSI A10.14-1991 所定規格的\\n上身式吊帶43\\n(\\nc)符合中華人民共和國國家標準 GB6095-85 所定規格的棚架工安全帶44\\n附錄 3 45\\n(a)符合美國國家標準協會 ANSI A10.14-1991 \\n所定規格的\\n腰式安全帶45\\n(b)符合日本工業標準 JIS M7624 所定規格的工業用安全帶 45'),\n",
       " Document(metadata={'source': '/home/lrctadmin/Documents/LLM/self-llm/models/Qwen/Langchain/knowledgebase/1 安全帶及其繫穩系統的分類與使用指引_勞工處 Oct 2018.pdf', 'page': 6}, page_content='附錄 4 47\\n(a)符合歐盟標準 EN358 ： 2000 所定規格的定位式工作\\n安全帶47\\n(b)符合澳洲 / 新西蘭標準 AS/NZS1891.1 ： 1995 所定規格的柱上安全帶48\\n(c)符合日本工業標準 JIS T8165-1987 所定規格的電訊工安全帶48\\n(d)符合中華人民共和國國家標準 GB6095-85 所定規格的電訊工安全帶49\\n參考資料 50\\n查詢及投訴 52'),\n",
       " Document(metadata={'source': '/home/lrctadmin/Documents/LLM/self-llm/models/Qwen/Langchain/knowledgebase/1 安全帶及其繫穩系統的分類與使用指引_勞工處 Oct 2018.pdf', 'page': 7}, page_content='- 1 -I. 引言\\n工人在高空工作時，最容易遇上的危險便是從高處墮下。本港的安全規\\n例規定僱主必須採取的 基本安全措施包括：提供適合的工作平台、安全\\n進出口及在危險的地方架設適當的護欄 。如提供工作平台、進出口及安\\n全工作場地並不切實可行，才可使用安全網及安全帶。\\n法例規定在下述情況下須使用安全帶：\\n(i) 在《建築地盤（安全）規例》第38B(1)或(1A)條所規定須採取足夠的步驟防止該地盤內有任何人從高度不少於2米之處墮下不屬切實可行；\\n(ii) 在《建築地盤（安全）規例》第38C條所規定須提供並確保有使用作支持用的安全設施不屬切實可行；\\n(iii) 根據《工廠及工業經營（吊船）規例》第15條的規定使用吊船；\\n(iv) 根據《工廠及工業經營（起重機械及起重裝置）規例》第18B(1)條的規定，使用深度少於900毫米的盛器載人，而該盛器以起重機械操作；及\\n(v) 根據《工廠及工業經營（密閉空間﹚規例》第9(b)條的規定，在密閉空間進行地底喉管工作。\\n其他需要使用安全帶但法例沒有定明的例子如下：\\n(i) 根據《工廠及工業經營（貨物及貨櫃搬運）規例》第10B 條的規定，在處理貨物或貨櫃時在貨櫃頂上工作；\\n(ii) 根據《工廠及工業經營規例》第24(a)條的規定，在需要其他防護的危險地方工作；及'),\n",
       " Document(metadata={'source': '/home/lrctadmin/Documents/LLM/self-llm/models/Qwen/Langchain/knowledgebase/1 安全帶及其繫穩系統的分類與使用指引_勞工處 Oct 2018.pdf', 'page': 8}, page_content='- 2 -(iii) 根據《職業安全及健康規例》第6(1)條的規定，在需要其\\n他防護的危險地方工作。\\n本指引所述的「\\u3000\\u3000\\u3000 安全帶 」泛指下列各類吊帶及帶：\\n(i) 安全吊帶或稱全身式吊帶；\\n(ii) 半身式吊帶或稱上身式吊帶；\\n(iii) 拯救用吊帶；\\n(iv) 定位式安全帶、柱上安全帶或電訊工安全帶；以及\\n(\\nv) 一般用途安全帶。\\n安全帶 包括懸掛繩。當安全帶與適當的繫穩系統一起使用時，便構成\\n個人的防墮系統。\\n本指引內提及「 合資格的人\\u3000\\u3000\\u3000\\u3000\\u3000 」應該是一位人士擁有知識和經驗去分辨及\\n使用安全帶，有足夠資歷確定及選擇不同種類的繫穩系統來配合安全\\n帶的使用，並有能力檢查安全帶及其繫穩系統上的表面損壞。\\n本指引內提及的「 專業工程\\u3000\\u3000\\u3000\\u3000\\u3000 師」，他須是屬於有關界別的香港工程師學\\n會會員，或同等資歷。\\n本指引提供多 個國家安全標準 所定繫穩系統部分的構造、\\n安全帶的種\\n類、 用途及規格的資料。由於安全帶是由不同國家輸入的，符合個 別國\\n家安全標準所定規格的安全帶；例如美國標準、歐盟標準、美國國家標\\n準、日本工業標準、日本勞働省的安全標準、中華人民共和國國家標準\\n或其等同標準，才是適合或符合法例規定的安全帶。雖然本指引引用英\\n國標準或歐盟標準，其他等同的國家標準或國際標準亦可以遵照。'),\n",
       " Document(metadata={'source': '/home/lrctadmin/Documents/LLM/self-llm/models/Qwen/Langchain/knowledgebase/1 安全帶及其繫穩系統的分類與使用指引_勞工處 Oct 2018.pdf', 'page': 9}, page_content='- 3 -II. 選擇工業用安全帶及其 繫穩系統\\n( 1 ) 考慮使用安全網\\n如工人有需要在高空工作，而提供適當的工作平台、安全進出口、安全\\n的工作場地，以及在危險地方架設護欄的措施並不切實可行，考慮架設安全網的做法通常是保障工人免從高處墮下而受傷的第二個方法。使用安全網時，應遵照歐盟標準 EN1263-1:2002 工業安全網規格的規定及測試方法。此外，使用者也應該諮詢安全網製造商的意見，以便可以選擇到一款安全網，最能符合在當時情況下會進行的工作類別的要求。擺放安全網時（具備外伸支架者），應該遵照歐盟標準 \\nEN1263-1:2002 & \\n1263-2:2002 的規定。雖然本指引引用英國標準或歐盟標準，其他等同的國家標準或國際標準亦可以遵照。\\n( 2 ) 計劃\\n在計劃的過程中，首要考慮的應是研究提供安全工作場地的可能性，或採用適當的安全網作為第二選擇，便可以避免使用防墮系統。\\n只有在架設安全網並不切實可行時，使用安全帶及其繫穩系統才是最後\\n一個防墮的保護方法。在這情況下，必須先行制定周詳的計劃，以選擇適當的安全帶及繫穩系統給工人使用。\\n在選擇安全帶及其繫穩系統前，承建商或東主應該制定工作計劃，確定\\n下列事項：\\n(i) 工人會進行的工作；\\n(ii) 移動時所需要的靈活程度；\\n(iii) 工作場地的情況；\\n(i\\nv) 可用於繫穩系統的繫穩點；'),\n",
       " Document(metadata={'source': '/home/lrctadmin/Documents/LLM/self-llm/models/Qwen/Langchain/knowledgebase/1 安全帶及其繫穩系統的分類與使用指引_勞工處 Oct 2018.pdf', 'page': 10}, page_content='(v) 環境因素；以及\\n(vi) 在工作時可能發生的危險及建議採取的預防措施。\\n- 4 -選擇裝配、使用和拆卸個人防墮系統，以及確定使用者的訓練需要時，\\n應以這工作計劃為基礎。計劃的範圍，應擴大至說明防墮系統的使用者如何進行有關的工作。\\n( 3 ) 選擇\\n在選擇安全帶及其繫穩物前，承建商或東主必須評估需要設置這些裝備的工作場地的情況。這項評估工作最低限度必須確定下列各項：\\n(i)  使用熱的物件或產生熱的工序；\\n(ii) 化學品及電力導致的危險；\\n(iii) 尖銳物體、磨損面、移動的裝置、沒有護欄的孔洞等；\\n(iv) 使用者\\n擬移動的範圍，以及在這些範圍內可墮下的危\\n險；以及\\n(v)  最能切合工作場地及工作活動需要的繫穩物類型；及繫\\n穩系統有否提供無間斷的保護。\\n選擇繫穩系統時，尤須注意會採用的繫穩物，在連接器、裝配、自動鎖緊裝置、減震器、救生繩及支持物各方面，可供選擇的類型及限制。在選 擇 \\n適當類別的繫穩系統時，須先行確定使用者的重量，包括\\n他使用的工具及裝備的重量，以及使用者在工作時的移動範圍。最為重要的一點是，不論選擇那種繫穩物或防墮系統，該系統必須在使用者暴露於墮下危險期間，可對使用者提供連續的保護。'),\n",
       " Document(metadata={'source': '/home/lrctadmin/Documents/LLM/self-llm/models/Qwen/Langchain/knowledgebase/1 安全帶及其繫穩系統的分類與使用指引_勞工處 Oct 2018.pdf', 'page': 11}, page_content='- 5 -在選擇有眼螺栓作為固定繫穩物、或作為導向防墜裝置的繫穩管線\\n時，有眼螺栓和繫穩管線的設計、構造、強度、穩定性 ，以及其裝配\\n和嵌入物，必須由專業結構工程師設計及檢查。使用者必須在使用前檢查有關該繫穩系統各項組件的標記及使用說明。\\n為了確定在甚麼情況下須使用安全帶，以及那一類型的安全帶可能切合有關工作和環境的需要，在購 買安全帶前，應先進行全面的研究。\\n為某一特定工作選擇安全帶時，應小心確保該項裝備在符合安全規定的情況下，可給予使用者最大程度的舒適感及移\\n動自由；此外，若使用\\n者一旦墮下，也盡可能提供最大的保障，避免使用者在下列其中一種情況下受傷：\\n(i) 與地面或周圍的構築物碰撞；或\\n(ii) 在墮下中突然受攔阻時，因衝力使安全帶令身體受傷。\\n在可以選擇安全帶的情況下；最好採用設有臀帶的安全吊帶；而並非使用一般用途的安全帶。'),\n",
       " Document(metadata={'source': '/home/lrctadmin/Documents/LLM/self-llm/models/Qwen/Langchain/knowledgebase/1 安全帶及其繫穩系統的分類與使用指引_勞工處 Oct 2018.pdf', 'page': 12}, page_content='- 6 -III. 裝備的使用\\n( 1 ) 製造商說明書\\n每套裝備附有製造商說明書，其中列明了裝配、調校及使用的方法。使\\n用者在使用這些裝備前，應知悉這些說明，並確知被裝備攔阻前所墮下的距離如超過規格所定而可能引致的惡果。此外，應特別留意製造商建議及指示的在使用前進行檢查的指引，保養的程序，以及正確的貯藏方法。\\n( 2 ) 訓練\\n須提供訓練給工作人員，就算有經驗的工作人員亦要接受訓練。訓練內容包括：\\n(i) 如何使用裝備；\\n(ii) 如何評估最高攔阻力及將其限制至系統可接受的水平；\\n(iii\\n) 配戴、調校及交互連接裝備的正確方法；\\n(iv) 裝備的適當連接點；\\n(v) 裝備的每個部份的預定作用及效能特性；\\n(vi) 適當的連接方法，包括彈簧鈎、D形環及其他連接物各種尺碼的互相配合，以減低意外鬆脫的可能性；\\n(vii) 墮下後如何防止使用者受到損傷；'),\n",
       " Document(metadata={'source': '/home/lrctadmin/Documents/LLM/self-llm/models/Qwen/Langchain/knowledgebase/1 安全帶及其繫穩系統的分類與使用指引_勞工處 Oct 2018.pdf', 'page': 13}, page_content='- 7 -(viii) 緊急搶救計劃及實施辦法，包括：\\n搶救辦法；\\n可召喚的搶救人員；可用以搶救的設備種類及召喚搶救人員的有效方\\n法；\\n搶救人員進行搶救及疏散程序的演習。\\n應該備存一份訓練記錄，登記課程內容、使用者的姓名、裝備的種類，\\n以及參加課程的時間與課程的長短。如使用者已有一段時間沒有使用某一種系統，便應為其安排複修課程。\\n( 3 ) 檢查 、 檢驗及監督\\n為確保系統發揮正常的作用，系統必須要檢查和檢驗，才可察覺使用\\n欠妥、損壞及保養不當的裝備，以及錯用組件的情況，並加以防止。檢驗工作須集中於繫穩物的構造，以及所選擇的安全帶的適合程度。此外，也該檢查系統是否附有標記或標記是否清晰可辨、是否缺 少任\\n何元件、是否適合或有效，以及金屬構件是否有欠妥或損壞之處。\\n使用安全帶的人士應在配戴安全帶之前檢查安全帶，以確保安全帶是\\n可以使用的。檢查的要點要依照製造商的指引進行。檢查的範圍包括：\\n(i) 是否附有標記或標記是否清晰可辨；\\n(ii) 是否缺少任何元件，是否適合或有效；(iii)\\n構件是否有欠妥或損壞之處；及\\n(iv) 帶及繩是否有欠妥或損壞之處。'),\n",
       " Document(metadata={'source': '/home/lrctadmin/Documents/LLM/self-llm/models/Qwen/Langchain/knowledgebase/1 安全帶及其繫穩系統的分類與使用指引_勞工處 Oct 2018.pdf', 'page': 14}, page_content='當檢查發現裝備有欠妥，損壞或缺乏維修，該等裝備應永遠停止使用或\\n要進行足夠的維修才可以繼續使用。\\n為了給安全帶使用者提供最大的保障，所有安全帶應依照製造商的指引由\\n合資格的人作定期徹底檢驗。檢驗期不得超過12 個月及依照製造商的指引進行。當安全帶在六個月內不是時常使用，該等安全帶應檢驗一次才可正式使用。\\n繫穩物的構造及其連結物亦須詳細檢查及檢驗。應找尋機械配件及連結物\\n是否有更改，配件是否缺少，損壞及失效，以確保在人體下墜時，繫穩物可提供足夠支撐力。\\n合資格的人也應監 管工人使用安全帶、把懸掛繩附在連接物上的正確方\\n法，以及彈簧鈎的位置是否正確等 。合資格的人如發現異常情況或不當行\\n為，便須採取措施，停用防墮系統，以及加強訓練或重新訓練使用者。\\n- 8 -( 4 ) 安全要點\\n當使用安全帶及繫穩物時，以下的要點要留意：\\n繫穩物\\n* 要特別小心去選擇及視察一個合適的繫穩物。適合的繫穩物必須要\\n有足夠的力度。救生繩應繫穩於鋼筋混凝土的樑或柱、或鋼結構的樑，而它們的強度最好已由專業結構工程師檢定。\\n* 繫穩點應有接置於工作地點上方以防止下墜時造成的擺動 。當不可\\n能避免下墜時所造成的擺動 ，使用者應該用第二條懸掛繩以限制擺\\n動的幅度。\\n* 應避免使用一個有尖角的堅固物作為救生繩的繫穩物。如果不可能避免這種情況，救生繩應以適當墊件保護。\\n* 在任何時間內，每條救生繩只可供一人使用。'),\n",
       " Document(metadata={'source': '/home/lrctadmin/Documents/LLM/self-llm/models/Qwen/Langchain/knowledgebase/1 安全帶及其繫穩系統的分類與使用指引_勞工處 Oct 2018.pdf', 'page': 15}, page_content='- 9 -使用前\\n* 應檢查每條安全帶在產品包裝內附有清楚的裝配說明、使用時所需\\n的調校、以及列明國家標準、製造商名稱、產品編號、製造年份的標記。切勿使用不知產地來源及沒有註明標準的安全帶。\\n* 祇使用沒有損壞的安全帶。如安全帶有損壞，該安全帶應標貼上‘損壞’字樣及交給合資格的人替換。\\n* 使用者在使用之前，應檢查安全帶的組合和作用是否正確。\\n使用中\\n* 所有安全帶應依照製造商的指引配戴及使用。\\n* 彈簧鈎應掛在高過使用者的腰部的位置上。\\n* 腰帶應緊扣在使用者的腰部。\\n* 保護安全帶及懸掛繩以免觸及酸性 及鹼性 的液體。\\n* 安全帶及懸掛繩要遠離火花，熱源或熱的物體。\\n* 切勿將兩條懸掛繩扣在一起。\\n* 切勿將懸掛繩環繞著任何鋒利邊緣，下墜的力可以把懸掛繩割斷。\\n* 切勿拖行懸掛繩，拖行懸掛繩可破壞懸掛繩的安全鈎及磨損懸掛繩。\\n* 使用者到達安全地方才可從繫穩點除下懸掛繩。\\n* 如果安全帶曾經被用作防止下墜，它應該立即停止使用及交給合資格的人作檢查。'),\n",
       " Document(metadata={'source': '/home/lrctadmin/Documents/LLM/self-llm/models/Qwen/Langchain/knowledgebase/1 安全帶及其繫穩系統的分類與使用指引_勞工處 Oct 2018.pdf', 'page': 16}, page_content='- 10 -使用後\\n* 應小心處理安全帶，以確保各部份不受損壞，金屬項目例如彈簧鈎\\n碰鎖尤其容易受損。\\n* 用完安全帶後，它應儲藏在一個乾燥，清涼及不受陽光直接照射的地方。\\n* 安全帶應掛在有清新空氣及有遮陰的牆上。\\n* 確保安全帶不會存放於貨物下而令其變形或損壞。\\n* 用乾布把安全帶及救生繩的汗、塵及油抹掉。\\n* 抹掉金屬部份的沙、塵和水，例如扣環和彈簧鈎，並在活動部份加以潤滑。'),\n",
       " Document(metadata={'source': '/home/lrctadmin/Documents/LLM/self-llm/models/Qwen/Langchain/knowledgebase/1 安全帶及其繫穩系統的分類與使用指引_勞工處 Oct 2018.pdf', 'page': 17}, page_content='- 11 -I V. 安全帶的分類\\n安全帶可以根據不同的國家標準分為下列數類：\\n(i) 安全吊帶或全身式吊帶；\\n(ii) 半身式吊帶或上身式吊帶；\\n(iii) 一般用途安全帶；\\n(iv) 定位式安全帶、柱上安全帶或電訊工安全帶；以及\\n(v) 拯救用吊帶。\\n這些安全帶必須與懸掛繩、固定的繫穩物、獨立救生繩或防墮器配合使\\n用。在選購安全帶及選擇繫穩系統前，最重要是作出詳細調查，以確定那類設備最配合有關的工作類別及環境。'),\n",
       " Document(metadata={'source': '/home/lrctadmin/Documents/LLM/self-llm/models/Qwen/Langchain/knowledgebase/1 安全帶及其繫穩系統的分類與使用指引_勞工處 Oct 2018.pdf', 'page': 18}, page_content='- 12 -( 1 ) 安全吊帶或全身式吊帶\\n全身式吊帶救生繩\\n圖 1   全身式吊帶接連獨立救生繩\\n一般的安全吊帶是指由股帶及肩帶組成的吊帶。這類吊帶與安全懸掛繩一\\n同使用，繫在繫穩點上。所有帶及腰帶該可調校至適合使用者的體形，並備有調校裝置。吊帶可以與衣服連接，並該承托下胸腔、肩部及股部。用以懸掛懸掛繩的 D 形環及其他同類的設施設於吊帶上端，作用是令吊帶懸吊着使用者時，脊骨與安全懸掛繩所形成的角度，不超過國家標準所指定的角度。常見的全身式吊帶見圖 1。\\n有關全身式吊帶的規格能見於歐盟標準 (EN 361:2002)、美國國家標準協會 (ANSI A10.14-1991)、澳洲 / 新西蘭標準 (AS/NZS1891.1:1995)、中華人民共和國國家標準 (GB6095-85) 及日本勞働省的安全標準。\\n不同國家的標準對這類吊帶的說明見附錄 1。'),\n",
       " Document(metadata={'source': '/home/lrctadmin/Documents/LLM/self-llm/models/Qwen/Langchain/knowledgebase/1 安全帶及其繫穩系統的分類與使用指引_勞工處 Oct 2018.pdf', 'page': 19}, page_content='( 2 ) 半身式吊帶或上身式吊帶\\nD形環肩帶\\n圖 2   半身式吊帶或上身式吊帶\\n上身式安全吊帶是與安全懸掛繩一起使用的，以扣於繫穩點上。這種吊帶\\n是由胸帶及肩帶組成，由堅靭的纖維織物在胸前或背後連接起來，足以承托使用者的身體。安全吊帶上設有能容納兩條懸掛繩的一個或多個 D 形環。\\n使用這類吊帶旨在利用繫穩物的位置、懸掛繩的長度、吊帶的繫穩點及\\n任何可伸延的帶子的長度等所起的作用，達到將墮下距離限制在指定距離的目的。\\n- 13 -英國標準 BS 1397:1979 定明上身式吊帶的規格。這項規格在 1993 年撤銷。目前，有關上身式吊帶的規格只見於美國國家標準。\\n上身式吊帶在日本稱為半身式吊帶。這類吊帶是符合日本勞働省安全帶\\n標準的測試要求。常見的上身式吊帶的簡圖見圖 2。\\n不同國家的標準對這類吊帶的說明載於附錄 2。'),\n",
       " Document(metadata={'source': '/home/lrctadmin/Documents/LLM/self-llm/models/Qwen/Langchain/knowledgebase/1 安全帶及其繫穩系統的分類與使用指引_勞工處 Oct 2018.pdf', 'page': 20}, page_content='- 14 -( 3 ) 一般用途安全帶\\n一般用途安全帶是與配備繫穩裝置的安全懸掛繩一同使用的安全帶，以\\n扣於繫穩點上。這種安全帶由一條腰式安全帶組成，帶上設有一個或多個 D 形環，以扣於一條安全繩或繫穩物上。\\n懸掛繩的長度由 1.5 米至 3.0 米不等，視乎不同國家標準的規格而定。\\n救生繩懸掛繩一般用途安全帶\\n圖 3   一般用途安全帶\\n在 1992 年前，英國標準 BS1397:1979 列明了一般用途安全帶的規格。\\n但是，這項標準在 1993 年撤銷。一般用途安全帶因此不再收錄在英國標準或歐盟標準內。\\n澳洲 / 新西蘭標準 AS/NZS 1892.1:1995 也撤銷了一般用途安全帶的條\\n目。這份標準指出有很多證據顯示， 即使不受攔阻地墮下的距離很短，'),\n",
       " Document(metadata={'source': '/home/lrctadmin/Documents/LLM/self-llm/models/Qwen/Langchain/knowledgebase/1 安全帶及其繫穩系統的分類與使用指引_勞工處 Oct 2018.pdf', 'page': 21}, page_content='- 15 -只配戴這類安全帶也可以令使用者受傷，例如肋骨折斷、腎臟、脾臟或\\n肺部受損。\\n一般用途安全帶的技術規格載於美國國家標準協會，日本工業標準內，及日本勞働省安全帶標準。值得注意的是，由 1997 年 12 月 31 日起，美國的職業安全衛生管理局只會承認腰式安全帶是定位裝置的一部分。這類安全帶一般的形狀見圖 3。\\n不同國家的標準對這類安全帶的說明載於附錄 3。\\n( 4 ) 定位式安全帶 、 柱上 / 電訊工安全帶\\n圖 4   定位式安全帶這種安全帶包括一條腰帶、一條背部支撐帶、一個扣及兩個用來扣緊懸掛繩的 D 形環。部分安全帶可配備能夠調校的肩帶和承坐吊帶。懸掛繩附有一個用來把繩子維持於指定長度的調節器。\\n這種安全帶的設計適合電訊工及其他\\n必須在柱桿等結構物上工作，而所配戴的安全帶又一直載荷工人的重量。圖 4 顯示了這種安全帶的一般形狀。\\n柱上安全帶根據不同的國家標準有不\\n同的構造及名稱，為人熟悉的計有歐盟標準 EN \\n358：2000、澳洲/新西蘭\\n標準 AS/NZS 1891.1：1995、日本工\\n業標準 JIS T8165-1987 及中華人民共和國國家標準 GB 6095-85。\\n請參閱附錄 4 有關這種安全帶在不同國家標準下的詳細說明。'),\n",
       " Document(metadata={'source': '/home/lrctadmin/Documents/LLM/self-llm/models/Qwen/Langchain/knowledgebase/1 安全帶及其繫穩系統的分類與使用指引_勞工處 Oct 2018.pdf', 'page': 22}, page_content='- 16 -( 5 ) 拯救用安全吊帶\\n拯救用安全吊帶是給以下工人配戴的：在密閉空間內工作而有可能因吸入\\n毒氣或毒煙而昏迷的工人，以及在油箱、污水沙井內工作而有可能被油箱及沙井的物料埋沒而至窒息的工人。拯救用吊帶的用途，主要是在意外事故中把遇險救離現場，但也可以在沒有墮下的危險情況下，與拯救繩一起使用，把遇險者向下放。\\n這種吊帶在設計上與一般用途的安全吊帶相類，配有 D 形環，確保拯救\\n繩把使用者吊起時，令使用者的身體維持於垂直狀態。\\n為方便把使用者從窄於一般肩寬的孔口拯救出來，這種吊帶又配有腕帶，\\n在拯救行動中容許使用者把其中一隻手舉高於頭部。\\n拯救用安全吊帶的規格於英國標準 BS 1397：1979 內有詳細說明，但這套\\n規格已於 1993 年撤銷。至於這種吊帶的構造，可見於澳洲 / 新西蘭標準AS/NZS 1891.1：1995，其中的要點如下：\\n(i) 吊帶本身須符合防墮吊帶的要求；\\n(ii) 腕帶須容許使用者把手舉高於頭部，以便拯救行動順利\\n進行，而腕帶必須能夠隨時從腕上鬆脫；\\n(iii) 把使用者提起的固定點必須適當地與吊帶連接，以確保使用者被提起時，身體維持於頭部向上的垂直狀態；以及\\n(iv) 可行的話，吊帶的設計應該容許所有調校部分可以用人手調節。'),\n",
       " Document(metadata={'source': '/home/lrctadmin/Documents/LLM/self-llm/models/Qwen/Langchain/knowledgebase/1 安全帶及其繫穩系統的分類與使用指引_勞工處 Oct 2018.pdf', 'page': 23}, page_content='- 17 -V. 安全帶的繫穩物\\n在有需要使用安全帶時必須把安全帶繫於繫穩物這項規定，在多項法\\n例條文中均已清楚闡述。\\n根據《工廠及工業經營（吊船）規例》第15(1) 條，用以載人的吊船\\n的擁有人，須向使用其吊船的每個人提供一條安全帶及一條獨立救生繩或一套連同裝配的繫穩物。\\n根據《建築地盤（安全）規例》第38H(3)條，安全帶只在持續繫於適\\n當和穩固的繫穩物的情況下方視為適當和足夠。\\n根據《工廠及工業經營（起重機械及起重裝置）規例》第 18B(1) 條，\\n如使用少於 900 毫米深的工作吊板或其他同類裝置或設備載人，則須提供繫於獨立救生繩的安全帶，而救生繩須穩固地懸吊着。\\n使用安全帶時須將懸掛繩附於或繫於繫穩物，目的在於限制墮下的距\\n離或防止墮下，或把安全帶使用者的活動限制於工作範圍的高度。繫穩物可以是一個固定錨椿、一條獨立救生繩或防墮系統。\\n繫穩物類別的選擇取決於工作的性質和地點，以及建築物的建造方式  \\n和支承結構。在選定繫穩物前，須先由合資格的人評估工作地點的各\\n種情況。所選用的裝備和繫穩點必須與工作情況及工作環境的因素配合。繫穩點規格及測試的參考資料可參閱歐盟標準 EN 795:1997。'),\n",
       " Document(metadata={'source': '/home/lrctadmin/Documents/LLM/self-llm/models/Qwen/Langchain/knowledgebase/1 安全帶及其繫穩系統的分類與使用指引_勞工處 Oct 2018.pdf', 'page': 24}, page_content='- 18 -( 1 ) 固定繫穩物\\n固定繫穩物的用途，是讓安全帶的懸掛繩可以直接繫穩在上面，防止\\n使用者從高處墮下。固定繫穩物可以是嵌入的有眼螺栓、堅固的樑架或建築物的硬柱。當選定一固定物為安全帶的固定繫穩物時，須由專業結構工程師評估該固定物的強度及穩定性。 不要把安全帶的懸掛繩\\n繫於欄杆、臨時支架或竹棚的任何一處、或任何輸水、煤氣或排水管上。這些結構或裝置在設計上並不可以承受突然的震盪或衝力。\\n如有眼螺栓嵌入混凝土或磚石作為固定繫穩物必須由專業結構工程師\\n設計及檢查其強度及穩定。固定繫穩物規格及測試的參考資料可參閱英國標準 BS 7883:1997。\\n有關方面該按以下各項來選擇固定繫穩物及考慮其位置：\\n(i) 在使用者到達一個潛在著墮下危險的位置前，該可預\\n先把懸掛繩繫好；\\n(ii) 繫穩物以堅固物料製造，足以承受攔阻一名墮下的人所產生的衝擊載荷；須適當地顧及繫穩物可能出現的損壞情況，例如因風雨而造成的損壞；\\n(iii) 墮下的高度有所限制，使用者在墮下時不會超越安全帶規格指明的高度限制；\\n(iv) 除非繫穩物經過特別設計或是鋼鐵結構，否則其擺放的位置，不可讓沿軸方向的拉力可以加於其上；\\n(v) 如繫穩物要在現有建築物上安裝，應該檢查牆壁的種類，以確定結構物料的性質和厚度，並該選用適當的繫穩物。安裝者應該遵照製造商的裝嵌指示；'),\n",
       " Document(metadata={'source': '/home/lrctadmin/Documents/LLM/self-llm/models/Qwen/Langchain/knowledgebase/1 安全帶及其繫穩系統的分類與使用指引_勞工處 Oct 2018.pdf', 'page': 25}, page_content='- 19 -(vi) 樓宇牆身建造的固定繫穩物，須由專業結構工程師監督\\n下進行測試。已測試的繫穩物，必須確定及標明給以後的使用者找出及使用；以及\\n(vii) 所有繫穩物的設計，都應該至少可以承受 5 千牛頓的拉力。\\n固定式繫穩物的式樣如圖 5 至圖 7 所示。\\n鋼樑\\n有眼螺栓\\n圖 5    在鋼樑的有眼螺栓'),\n",
       " Document(metadata={'source': '/home/lrctadmin/Documents/LLM/self-llm/models/Qwen/Langchain/knowledgebase/1 安全帶及其繫穩系統的分類與使用指引_勞工處 Oct 2018.pdf', 'page': 26}, page_content='有眼螺栓鋼筋\\n插座部面A-A\\n- 20 -圖 6    在現澆混凝土板上使用有眼螺栓\\n有眼螺栓 鋼的結構\\n圖 7    在鋼的結構的有眼螺栓'),\n",
       " Document(metadata={'source': '/home/lrctadmin/Documents/LLM/self-llm/models/Qwen/Langchain/knowledgebase/1 安全帶及其繫穩系統的分類與使用指引_勞工處 Oct 2018.pdf', 'page': 27}, page_content='- 21 -( 2 )  垂直獨立救生繩\\n使用獨立救生繩是防止使用者從高處墮下的常見安全措施。獨立救生繩\\n與一條懸掛繩及一種定位裝置一起使用，定位裝置包括繩索夾頭、繩索抓鈎、繩索調節器，而這些裝置的上端該牢固地繫於結構上的繫穩點。圖 8 顯示了垂直獨立救生繩的使用。\\n保護物  鋼筋混凝土柱\\n 救生繩\\n8 字形結\\n圖 8    垂直獨立救生繩救生繩可以是纖維索或金屬索。根據美國國家標準協會的規定，纖維製的救生繩，其直徑最少是 15.9 毫米。至於用金屬製的救生繩，最少該有8毫米的直徑，以及按照歐盟標準EN 12385-1:2002的測試標準，該有25千牛頓的靜態抗斷強度。\\n纖維製及金屬製的\\n救生繩須配備末端止動器。纖維索上，可以有一個 8 字形的結。如存在著電力危險的情況，\\n則不該使用鋼纜。救生繩該為單一連續的繩，並須在不受阻礙的情況下，由繫穩點一直懸垂下來，但繩邊不該接觸到任何影響該繩和安全帶其他部分一起操作的結構物或物體。'),\n",
       " Document(metadata={'source': '/home/lrctadmin/Documents/LLM/self-llm/models/Qwen/Langchain/knowledgebase/1 安全帶及其繫穩系統的分類與使用指引_勞工處 Oct 2018.pdf', 'page': 28}, page_content='- 22 -救生繩的長度須達到或低過使用者預計到達地方的最低點。每條救生繩\\n只可容許一人把安全帶繫上，因此，每名工人須獲提供一條獨立救生繩。如果救生繩與防墮裝置一起使用，使用者須按製造商的建議正確地完成裝配及調校步驟。\\n救生繩的繫穩點在結構上必須安全，鋼筋混凝土的樑或柱、結構性的鋼\\n工字樑或類似的結構，都是合適的繫穩點用作固定救生繩，而它們的強度最好已由專業結構工程師檢定。\\n我們建議不要把救生繩的上端繫於任何臨時建築物，例如支架的部分、\\n窗框、屋頂的水渠等等。 在把救生繩繫於構築物的過程中，須設法使救\\n生繩在經過鋼樑或牆壁時，避免被銳利的邊緣所損。\\n( 3 ) 平行救生繩 （導索）\\n由一條安全帶及兼備繩索拉伸器的平行救生繩組成的另一種防墮系統，可以幫助工人在建築地盤、船塢、礦場等內高空工作時，沿橫樑、鋼樑或其他類似的危險構築物走動。救生繩在及腰的水平繫於兩個平衡支撐物之間。根據美國國家標準 ANSI Z359:1992，平行救生繩是拉緊至0.75-1.0 千牛頓的拉力，讓懸掛繩繫穩於上，而繩上的任何一點都可以支承每名使用救生繩的僱員至少 2280 千克的靜載荷。\\n平行救生繩的繫穩物必須為鋼筋混凝土或鋼結構性的部份，並有足夠支\\n撐上述載荷的強度。在裝上繫穩物及平行救生繩系統時，有關人士必須考慮傾斜的角度及救生繩的預拉力。安裝時要根據生產商的規格，並須由合資格的人監控及檢查。'),\n",
       " Document(metadata={'source': '/home/lrctadmin/Documents/LLM/self-llm/models/Qwen/Langchain/knowledgebase/1 安全帶及其繫穩系統的分類與使用指引_勞工處 Oct 2018.pdf', 'page': 29}, page_content='- 23 -必須注意的是，平行救生繩同一時間最多只可容許一人於支撐物之間使\\n用。平行救生繩見於圖 9。\\n導索結構性的部份\\n拉力調節器 \\n圖 9    平行救生繩\\n( 4 ) 防墮裝置 \\n目前已研製了一些機械裝置，可以配合安全帶的使用，以延展使用者與構築物上的繫穩點和工作水平之間的距離。防墮裝置已成為防墮系統的主要組件，若與救生繩、導軌或能量吸收器一起使用，可以在使用者墮下時，令身體免受損傷。\\n美國國家標準、澳洲 / 新西蘭標準及歐盟標準建議，安全吊帶該與防墮\\n裝置一起使用，而一般用途的安全帶則不能與防墮裝置同時使用。\\n常用的防墮裝置有以下兩種：伸縮式防墮裝置及連接固定繫穩管線或\\n彈性繫穩管線的導向式防墮裝置。\\n防墮裝置及其附設件必須符合國家標準的規定及製造商所定的規格；\\n才可使用。所選用的防墮裝置種類，須視乎工作的性質與地點，以及'),\n",
       " Document(metadata={'source': '/home/lrctadmin/Documents/LLM/self-llm/models/Qwen/Langchain/knowledgebase/1 安全帶及其繫穩系統的分類與使用指引_勞工處 Oct 2018.pdf', 'page': 30}, page_content='- 24 -構築物的環境而定。安裝系統的工作必須在一名合資格的人監督的情況\\n下進行，系統在每次使用前須由這名合資格的人檢驗。\\n防墮系統的使用者應依從製造商有關檢驗、保養及存放設備的指示。每名使用者須先接受適當的訓練，才可獲准使用系統。\\n伸縮式防墮裝置 (a)\\n結構性的鋼樑  伸縮式防墮裝置\\n伸縮式懸掛繩\\n圖 10    伸縮式防墮裝置\\n這個伸縮式防墮裝置系統，是由一個繫穩點、一個備有伸縮式懸掛繩的伸縮式防墮裝置，如慣力卷軸，以及一條安全帶組成，而這條安全帶是'),\n",
       " Document(metadata={'source': '/home/lrctadmin/Documents/LLM/self-llm/models/Qwen/Langchain/knowledgebase/1 安全帶及其繫穩系統的分類與使用指引_勞工處 Oct 2018.pdf', 'page': 31}, page_content='- 25 -英國歐盟標準或美國國家安全標準協會所規定的安全吊帶。防墮裝置的\\n懸掛繩具備自動鎖緊功能，以及自動張緊及回繩裝置。防墮裝置可附設捲筒，以收繞或放出伸縮式懸掛繩，或可附設加上均重物的回繩輪。\\n由於伸縮式防墮裝置的設計及對其進行的測試，是要使其成為完全連接的系統，以作防墮之用，因此不可在伸縮式懸掛繩的接繩器上附設能量吸收器。\\n這個系統需要一個可靠的繫穩點，並須在使用者下面預留所需的最小餘\\n隙，這個餘隙可透過測量的攔阻距離而估計出。繫穩點須為鋼工字樑上的吊運車或鈎在鈎環；而這鈎環要用鋼絲纜索穩固於鋼筋混凝土樑或柱支承物的強度要由專業工程師所檢定。防墮裝置不可繫穩於臨時棚架的圍欄、樓宇頂部的輸水或煤氣管、窗框或任何排水系統。\\n歐盟標準 EN 360：2002 或美國國家標準協會 ANSI Z359.1-1992 訂下有關效能、測試要求及鎖緊狀態的規定。上述系統的簡圖見圖10。'),\n",
       " Document(metadata={'source': '/home/lrctadmin/Documents/LLM/self-llm/models/Qwen/Langchain/knowledgebase/1 安全帶及其繫穩系統的分類與使用指引_勞工處 Oct 2018.pdf', 'page': 32}, page_content='- 26 -(b) 固定繫穩管線上的導向式防墮裝置\\n防墮裝置 \\n固定導軌\\n圖11   導向式防墮裝置\\n這類防墮裝置備有自動鎖緊功能及導向式設備。防墮裝置與固定繫穩管\\n線及懸掛繩配合使用。導向式防墮裝置可裝配一個耗能元件。\\n防墮裝置可以無需人手調校，隨著使用者的位置向上或向下改變，而沿\\n著繫穩管線移動，並在使用者墮下時自動鎖緊繫穩管線。\\n繫穩管線可以是一條鋼軌或鋼絲纜索，而且須以能夠限制管線的橫向移\\n動的方式扣於構築物上。\\n防墮裝置須符合歐盟標準 EN 360:2002 或美國國家標準協會\\nANSI Z359.1-1992 所定有關性能、動態及靜態測試的要求。這兩套標準都建議防墮裝置該與全身式吊帶配合使用。在日本，防墮裝置與一般的安全帶配合使用。圖11 展示該系統。'),\n",
       " Document(metadata={'source': '/home/lrctadmin/Documents/LLM/self-llm/models/Qwen/Langchain/knowledgebase/1 安全帶及其繫穩系統的分類與使用指引_勞工處 Oct 2018.pdf', 'page': 33}, page_content='- 27 -(c) 彈性繫穩管線上的導向式防墮裝置\\n墊件 工字樑\\n防墮裝備\\n耗能設備彈性繫穩纜索\\n救生繩\\n末端止動器及墜重物\\n圖 12    彈性繫穩管線\\n這個系統包括一條彈性繫穩管線、一個扣於彈性繫穩管線的自動鎖緊\\n導向式防墮裝置及一條扣於防墮裝置的懸掛繩。防墮裝置可以無需人手調校，隨著使用者的位置向上或向下改變，而沿著繫穩管線移動，並在使用者墮下時自動鎖緊繫穩管線。繫穩管線可以是一條合成纖維繩索或一條鋼絲纜索，並須緊扣於一個位於高處的繫穩點。導向式防墮裝置、懸掛繩或繫穩管線上可裝配一個耗能元件。這個系統見圖12。\\n根據歐盟標準、澳洲 / 新西蘭標準及美國國家標準協會的規定，這套\\n系統只可與全身式吊帶配合使用。但是根據售賣防墮裝置的日本製造商的建議，這個系統可與一般的安全帶配合使用。鑑於可能引致使用者受傷，一般用途安全帶是不適合配上這種防墮裝置使用。'),\n",
       " Document(metadata={'source': '/home/lrctadmin/Documents/LLM/self-llm/models/Qwen/Langchain/knowledgebase/1 安全帶及其繫穩系統的分類與使用指引_勞工處 Oct 2018.pdf', 'page': 34}, page_content='- 28 -彈性繫穩管線須緊扣於一個位於高處的繫穩點，並須裝上末端止動器，\\n以防止防墮裝置意外地移離繫穩管線。如果導向式防墮裝置的鎖緊裝置是人手控制的，該彈性繫穩管線的下端須扣在一個固定的物件上或扣上一個墜重物。如使用鋼纜作彈性繫穩纜索時，纜索的下端必須扣在一個固定的物件上或扣上一個墜重物。\\n有關這個系統的要求、效能及測試程序簡介，見於歐盟標準  \\nEN360:2002 或美國國家標準協會的規定 ANSI Z359.1-1992。'),\n",
       " Document(metadata={'source': '/home/lrctadmin/Documents/LLM/self-llm/models/Qwen/Langchain/knowledgebase/1 安全帶及其繫穩系統的分類與使用指引_勞工處 Oct 2018.pdf', 'page': 35}, page_content='- 29 -VI. 使用安全帶及其繫穩物之實際例子\\n( 1 ) 使用固定繫穩物之例子\\n照片一：使用全身式吊帶及固定繫\\n穩物進行抹窗工作\\n照片二：以有眼螺栓作為固 \\n定繫穩物'),\n",
       " Document(metadata={'source': '/home/lrctadmin/Documents/LLM/self-llm/models/Qwen/Langchain/knowledgebase/1 安全帶及其繫穩系統的分類與使用指引_勞工處 Oct 2018.pdf', 'page': 36}, page_content='- 30 -( 2 ) 垂直獨立救生繩\\n照片三： 使用繩索夾頭及垂直獨立\\n救生繩進行外窗裝嵌工程'),\n",
       " Document(metadata={'source': '/home/lrctadmin/Documents/LLM/self-llm/models/Qwen/Langchain/knowledgebase/1 安全帶及其繫穩系統的分類與使用指引_勞工處 Oct 2018.pdf', 'page': 37}, page_content='照片四： 使用繩索夾頭及垂直\\n獨立救生繩進行竹棚架搭建或拆卸工作\\n- 31 -照片五： 使用繩索夾頭及垂直獨立救生繩進行金屬架搭建或拆卸工作'),\n",
       " Document(metadata={'source': '/home/lrctadmin/Documents/LLM/self-llm/models/Qwen/Langchain/knowledgebase/1 安全帶及其繫穩系統的分類與使用指引_勞工處 Oct 2018.pdf', 'page': 38}, page_content='- 32 -( 3 ) 導索\\n照片六： 使用導索、繩索抓\\n鈎及繩索調節器進行電塔裝嵌工程\\n照片七：用以拉緊導索的拉力調節器'),\n",
       " Document(metadata={'source': '/home/lrctadmin/Documents/LLM/self-llm/models/Qwen/Langchain/knowledgebase/1 安全帶及其繫穩系統的分類與使用指引_勞工處 Oct 2018.pdf', 'page': 39}, page_content='- 33 -( 4 ) 伸縮式防墮裝置\\n照片八 ：使用慣力卷軸﹝伸縮式防墮裝置﹞進行貨櫃搬\\n運工作               '),\n",
       " Document(metadata={'source': '/home/lrctadmin/Documents/LLM/self-llm/models/Qwen/Langchain/knowledgebase/1 安全帶及其繫穩系統的分類與使用指引_勞工處 Oct 2018.pdf', 'page': 40}, page_content='( 5 ) 固定繫穩管線上的導向防墮裝置\\n- 34 -\\n照片九 ：於發電廠內使用固定繫穩管線上\\n的導向式防墮裝置               '),\n",
       " Document(metadata={'source': '/home/lrctadmin/Documents/LLM/self-llm/models/Qwen/Langchain/knowledgebase/1 安全帶及其繫穩系統的分類與使用指引_勞工處 Oct 2018.pdf', 'page': 41}, page_content='- 35 -附錄 1\\n安全吊帶或全身式吊帶\\n(a) 符合歐盟標準 EN361 ： 2002 所定規格的全身式吊帶\\n根據歐盟標準 EN361：2002 所定規格，這種吊帶是一種有防墮功能的\\n全身吊帶，也就是說，它構成防墮系統的一部分，而防墮系統的作用是在使用者從高處墮下其間或被停阻後，支承著整個身體及防止身體擺動。這種吊帶由肩帶、承坐帶、股帶及背部支撐帶組成，用以固定使用\\n者的工作位置。承坐帶及肩帶的闊度起碼須有 40 毫米。所有帶不得出現移位或自動 鬆脫的情況。這種全身式吊帶又可裝上防墮連接裝置，例\\n如在使用過程中，把D形環裝置於使用者胸前、重心點、兩肩及 / 或背部。圖 13 顯示符合這套標準的全身式吊帶。\\nD形環\\n承坐帶\\n股帶肩帶\\n圖 13   全身式吊帶（歐盟標準）\\n該套標準明確指出，在落錘試驗中，人體軀幹的模型被制停時，必須維持於頭部向上的位置，而人體軀幹模型的背部縱向軸與垂直線之間的角度最多只可以是 50 度。'),\n",
       " Document(metadata={'source': '/home/lrctadmin/Documents/LLM/self-llm/models/Qwen/Langchain/knowledgebase/1 安全帶及其繫穩系統的分類與使用指引_勞工處 Oct 2018.pdf', 'page': 42}, page_content='- 36 -如果這種安全帶是配合懸掛繩一起使用，懸掛繩的長度，連同能量吸收\\n器（如有使用時）及終端裝置（例如連接器或索眼），不得超於 2.0 米。\\n(b) 符合澳洲 / 新西蘭標準 AS/NZS1891.1 ： 1995 所定規格的安\\n全吊帶\\n根據澳洲 / 新西蘭標準 AS/NZS1891.1：1995 所定規格，安全吊帶\\n根據這標準名為防墮吊帶，由互相連接的肩帶及套腳環帶組成一個單一系統，另外還可以包括一條腰式安全帶或其他設計上用來支承更大的身體部位及防止使用者在墮下時跌出吊帶外的橫帶。肩帶的位置在設計上須令使用者在懸垂狀態中，避免腋下部分承受不必要的壓力。\\n肩帶\\n套腳環帶\\n圖 14   沒有橫帶的全身式吊帶（澳洲／新西蘭標準）\\n這種吊帶又包括連接裝置，可讓懸掛繩繫上。這連接裝置的位置，令使用者墮下時，不論清醒與否，都可以維持頭部向上的姿勢。典型的防墮吊帶見於圖 14 及圖 15。'),\n",
       " Document(metadata={'source': '/home/lrctadmin/Documents/LLM/self-llm/models/Qwen/Langchain/knowledgebase/1 安全帶及其繫穩系統的分類與使用指引_勞工處 Oct 2018.pdf', 'page': 43}, page_content='橫帶或腰\\n式安全帶\\n- 37 -圖 15   全身式吊帶連同橫帶（澳洲／新西蘭標準）\\n(c) 符合美國國家標準協會 ANSI A10.14-1991 所定規格的安全吊帶\\n根據美國國家標準協會 ANSI A10.14-1991 所定規格，這款安全吊帶\\n稱為腰式吊帶。吊帶各部分的帶條，套在僱員身上，將攔阻力至少分散至大腿、肩膊及盆骨這些部位上。吊帶附設適當配備，以連接一條懸掛繩、救生繩或減速裝置。\\n腰帶的闊度必須至少為 44 毫米，而帶條的末端必須妥為修整，以免纖\\n維散開。圖 16 展示符合這個標準的安全吊帶。'),\n",
       " Document(metadata={'source': '/home/lrctadmin/Documents/LLM/self-llm/models/Qwen/Langchain/knowledgebase/1 安全帶及其繫穩系統的分類與使用指引_勞工處 Oct 2018.pdf', 'page': 44}, page_content='- 38 -圖 16   全身式吊帶（美國國家標準）\\n這款腰式吊帶具制動及/或防墮的功能；在工人有垂直墮下的危險情況\\n下使用，可減低墮下的可能性。進行性能測試時，在模型軀幹靜止後，量度軀幹垂直中心線與垂面之間的靜止角，所得角度不可超過 30 度。\\n如安全吊帶上有多於一種連接元件，如多個 D 型環，則製造商必須標明\\n每種元件的作用及限制。\\n在安全吊帶本身或牢附於吊帶的標籤上，必須印有或蓋上有關下列資料\\n的不褪色印記：\\n(i) 製造商商號或商標\\n(ii) 型號(iii) \\n製造日期'),\n",
       " Document(metadata={'source': '/home/lrctadmin/Documents/LLM/self-llm/models/Qwen/Langchain/knowledgebase/1 安全帶及其繫穩系統的分類與使用指引_勞工處 Oct 2018.pdf', 'page': 45}, page_content='- 39 -(d) 符合中華人民共和國國家標準 GB6095-85 所定規格的安全吊帶\\n根據中華人民共和國國家標準 GB6095-85 所定規格，就三種全身式吊\\n帶。它們具備相類似形狀的肩帶，但懸掛繩和股帶／腿帶的款式則各異。腰帶的闊度必須介乎 40 毫米與 50 毫米之間。\\n圖 17，圖 18 及圖 19 展示這三種全身式吊帶的形狀。\\n有關標準內明確規定這兩款安全吊帶的最佳性能、包裝細節及使用說\\n明。\\n肩帶  \\n腰式安全帶\\n套腳環帶\\n懸掛繩\\n圖 17   T2XB 全身式吊帶（中華人民共和國國家標準）'),\n",
       " Document(metadata={'source': '/home/lrctadmin/Documents/LLM/self-llm/models/Qwen/Langchain/knowledgebase/1 安全帶及其繫穩系統的分類與使用指引_勞工處 Oct 2018.pdf', 'page': 46}, page_content='- 40 -\\n肩帶  \\n腰式安全帶\\n套腳環帶懸掛繩\\n圖 18   T3XB 全身式吊帶（中華人民共和國國家標準）\\n肩帶  \\n腰式安全帶\\n套腳環帶懸掛繩\\n圖 19   T4XB 全身式吊帶（中華人民共和國國家標準）'),\n",
       " Document(metadata={'source': '/home/lrctadmin/Documents/LLM/self-llm/models/Qwen/Langchain/knowledgebase/1 安全帶及其繫穩系統的分類與使用指引_勞工處 Oct 2018.pdf', 'page': 47}, page_content='- 41 (e) 日本的吊帶式安全帶\\n救生繩\\n圖 20   全身式吊帶（日本）\\n在日本，安全吊帶稱為吊帶式安全帶，它的設計及力學強度須符合日\\n本勞働省安全帶標準所定的測試要求。這類安全吊帶的設計，可保障在高空工作的工人，以免產生墮下的危險。工人一旦墮下，下跌的衝力會因分散至肩部、胸部、背部、腰部、大腿及臀部而減到最少。安全帶的尼龍帶一般闊 50 毫米，而懸掛繩則長 2.0 米，直徑為 14 毫米。這條懸掛繩可連接背部或腰部的 D 型環。圖 20 展示一條典型的日本製造安全吊帶。'),\n",
       " Document(metadata={'source': '/home/lrctadmin/Documents/LLM/self-llm/models/Qwen/Langchain/knowledgebase/1 安全帶及其繫穩系統的分類與使用指引_勞工處 Oct 2018.pdf', 'page': 48}, page_content='- 42 -附錄 2\\n半身式吊帶或上身式吊帶\\n(a) 日本的上身式吊帶\\n救生繩\\n 懸掛繩 懸掛繩\\n圖 21   半身式吊帶 圖 22   上身式吊帶\\n在日本，上身式吊帶又稱為半身式安全帶。半身式安全帶可分為兩類：\\n連股帶的半身式安全帶及連肩帶的半身式安全帶。這類吊帶的力學性能須符合日本勞働省安全帶標準的測試要求。\\n連股帶的半身式安全吊帶適宜用於建築地盤、槽箱及沙井。連股帶的吊\\n帶見圖 21。\\n使用者的身體主要由股帶支承，而股帶的設計可以容許使用者工作時活\\n動自如。使用者若墮下，所產生的震盪或衝力，可分散至腰部、大腿及臀部；這樣，對身體這些部分造成的影響便可減至最少。腰帶闊 50 毫米，配有 2.0 米長的懸掛繩。'),\n",
       " Document(metadata={'source': '/home/lrctadmin/Documents/LLM/self-llm/models/Qwen/Langchain/knowledgebase/1 安全帶及其繫穩系統的分類與使用指引_勞工處 Oct 2018.pdf', 'page': 49}, page_content='- 43 -配有肩帶的半身式安全帶可用於建築地盤、船塢、礦場及鋼鐵建築工\\n作。支承的重量分散於工人的上半身，例如肩膊、背部及腰部，這樣，使用者工作時便可以活動自如。這種安全帶的腰帶同樣闊 50 毫米，配有 2.0 米長的懸掛繩。圖 22 顯示了這種吊帶的形狀。\\n(b) 符合美國國家標準協會 ANSI A10.14-1991 所定規格的上身式\\n吊帶\\n根據美國國家標準，上身式吊帶是作為限制活動的設備，但在有垂直墮\\n下危險的情況下，則不宜使用。這吊帶又稱‘第II類’安全帶。這種吊帶包括與肩帶相配合並穩纏於胸部的胸帶，以確保胸帶保持於正確的位置上。腰帶最少該闊 44 毫米。這種吊帶若配合懸掛繩及繫穩裝置一起使用，可確保使用者在工作時，身體維持於某個工作平面上，或把墮下的最長距離限制於工作平面下的 0.6 米。這種吊帶的本身或牢附於吊帶的標籤上必須印有或蓋上註明「第II類」的標記。'),\n",
       " Document(metadata={'source': '/home/lrctadmin/Documents/LLM/self-llm/models/Qwen/Langchain/knowledgebase/1 安全帶及其繫穩系統的分類與使用指引_勞工處 Oct 2018.pdf', 'page': 50}, page_content='- 44 -(c) 符合中華人民共和國國家標準 GB6095-85 所定規格的棚架工安\\n全帶\\n腰帶 懸掛繩\\n圖 23    J1XY 棚架工安全帶（中華人民共和國國家標準）\\n根據中華人民共和國國家標準 GB6095-85 的規格，有兩種供棚架工使用\\n的安全帶。兩者具備類似的腰帶但懸掛繩的形狀則不同。這兩種安全帶的形狀見圖 23 及 24。\\n腰帶\\n 懸掛繩\\n圖 24   J2XY 棚架工安全帶（中華人民共和國國家標準）'),\n",
       " Document(metadata={'source': '/home/lrctadmin/Documents/LLM/self-llm/models/Qwen/Langchain/knowledgebase/1 安全帶及其繫穩系統的分類與使用指引_勞工處 Oct 2018.pdf', 'page': 51}, page_content='- 45 -附錄 3\\n一般用途安全帶\\n(a) 符合美國國家標準協會 ANSI A10.14-1991 所定規格的腰式安全\\n帶\\n美國國家標準把一般用途安全帶稱為‘腰式安全帶’，在建築及拆卸工\\n作中使用。這類安全帶包括一條 44 毫米闊的帶，牢固地繫在使用者的腰間，並扣在懸掛繩、救生繩或減速裝置上。\\n在有垂直墮下的危險的情況下使用‘腰式安全帶’，有助制阻和/或防\\n止墮下，並能減低人體墮下的機會。這種安全帶與懸掛繩配合使用時，可將墮下距離局限於 1.5 米或以下。\\n值得注意的是，由1997年12月31日起，美國職業安全衛生管理局只會\\n承認‘腰式安全帶’是定位裝置的一部分，因為據研究證實，‘腰式安全帶’會引致背傷、內傷和可能在使用者墮下時鬆脫。\\n(b) 符合日本工業標準 JIS M7624 所定規格的工業用安全帶\\n根據日本工業標準的規定，礦工使用的安全帶屬於綁身式安全帶。當工人在高處或陡坡工作，例如進行採礦、採石或土木工程的工作時，這類安全帶有助預防工人墮下。這類安全帶包括一條闊度不少於 50 毫米的綁身帶、一個經抗蝕處理的扣環、長度少於 1.5 米的懸掛繩（不包括掛鈎）、一至兩個 D 形環、一個掛鈎、一個掛環或一個夾緊裝置。這類安全帶可配備一條超過 75 毫米闊的輔助帶，以強化綁身帶上扭曲或有裂縫的部分。\\n安全帶可以配上較長的懸掛繩。即使因為工作性質而需使用較長的懸掛\\n繩，其長度也不得超過 2.5 米。根據這項標準，沒有配備輔助帶的安全帶歸入第 1A 類，而備有輔助帶的安全帶則屬於第 2A 類。這兩類安全帶都符合日本勞働省安全帶標準的規定，並且在本港建造業廣泛使用。第1A 及第 2A 類安全帶的構造見圖 25 及圖 26。'),\n",
       " Document(metadata={'source': '/home/lrctadmin/Documents/LLM/self-llm/models/Qwen/Langchain/knowledgebase/1 安全帶及其繫穩系統的分類與使用指引_勞工處 Oct 2018.pdf', 'page': 52}, page_content='腰式安全帶懸掛繩\\n扣環 D 形環鈎\\n圖 25   第 1A  類一般用途安全帶（日本工業標準）\\n腰式安全帶 輔助帶\\n- 46 -圖 26   第 2A 類一般用途安全帶（日本工業標準）'),\n",
       " Document(metadata={'source': '/home/lrctadmin/Documents/LLM/self-llm/models/Qwen/Langchain/knowledgebase/1 安全帶及其繫穩系統的分類與使用指引_勞工處 Oct 2018.pdf', 'page': 53}, page_content='- 47 -附錄 4\\n定位式工作安全帶 、 柱上或電訊工安全帶\\n(a) 符合歐盟標準 EN358 ： 2000 所定規格的定位式工作安全帶\\n長度調校器\\n懸掛繩腰帶背部支撐帶\\n圖 27   定位式工作安全帶（歐盟標準）\\n歐盟標準 EN358：2000 就定位式工作安全帶的設計、構造、靜力和動\\n力強度以及測試作出規定。腰帶的闊度不得少於 43 毫米，而背部支撐的闊度則不得少於 100 毫米。定位式工作安全帶可設置可調校的肩帶和承坐帶。懸掛繩須附有長度調校器，而其最大長度在所有正常情況下均須為 2 米。在購買安全帶時，有關裝配、調校和使用的清楚說明書隨每條安全帶附送，而列明標準編號、製造商名稱、產品編號、製造年份和月份的標記則附在產品包裝裏。定位式工作安全帶見圖 27。'),\n",
       " Document(metadata={'source': '/home/lrctadmin/Documents/LLM/self-llm/models/Qwen/Langchain/knowledgebase/1 安全帶及其繫穩系統的分類與使用指引_勞工處 Oct 2018.pdf', 'page': 54}, page_content='- 48 -(b) 符合澳洲 / 新西蘭標準 AS/NZS1891.1 ： 1995 所定規格的柱上\\n安全帶\\n根據這澳洲 / 新西蘭標準，定位式工作安全帶由定位式工作安全吊帶取\\n代。只有在沒有墮下危險的情況下，才可將定位式工作安全吊帶和限位纜索或繞柱帶一起使用。如存有墮下的危險，則在使用吊帶時，繞柱帶或限位纜索在使用狀態下須經常維持拉緊的狀態。定位式工作安全吊帶的構件，包括藉前置帶連接一對套腳環帶的一條腰式安全帶或可調校腰帶，以及其他條帶如穿過盤骨下面來支撐身體下半部以保持坐姿的承坐帶，例如，「承坐」吊帶。吊帶可包括背部支撐帶或肩帶，並可與衣服連接。吊帶可與短的懸掛繩一起使用，使墮下距離不可能超過 600 毫米。\\n(c) 符合日本工業標準 JIS T8165-1987 所定規格的電訊工安全帶\\n根據日本勞働省安全帶標準及日本工業標準所描述的電訊工安全帶的設計、構造及外形，電訊工安全帶有兩種，即單索懸吊式和 U 形懸吊式安全帶。單索懸吊式安全帶容許彈簧鈎繫於懸掛繩上，而 U 形懸吊式安全帶則規定彈簧鈎須夾緊安全帶的 D 形環。懸掛繩的長度由 2.0 米至 3.5米不等。腰帶的闊度為 40 毫米至 50 毫米，而背部支撐的闊度則不得少於 75 毫米。帶的厚度不得少於 2 毫米。每條安全帶的當眼處須有製造商名稱，以及製造年份和月份的標記。上述兩種安全帶見圖 26。\\n柱桿\\n圖 28   柱上安全帶（日本工業標準）'),\n",
       " Document(metadata={'source': '/home/lrctadmin/Documents/LLM/self-llm/models/Qwen/Langchain/knowledgebase/1 安全帶及其繫穩系統的分類與使用指引_勞工處 Oct 2018.pdf', 'page': 55}, page_content='- 49 -(d) 符合中華人民共和國國家標準 GB6095-85 所定規格的圍杆作業\\n安全帶\\n中華人民共和國國家標準 GB6095-85 所規定的圍杆作業安全帶有多種，\\n包括通用圍杆安全帶、電工安全帶和電信工安全帶。它們都具備圍杆帶／繩環繞支柱，支撐工人的重量。但腰帶及懸掛繩的款式各異。除腰帶外，只有一款圍杆作業安全帶具備胸帶（DW\\n1F 電工安全帶）。這款安\\n全帶的構造見圖 29。其中一款沒有胸帶的圍杆作業安全帶（DxW2Y 電信\\n工安全帶）則展示於圖 30。\\n背部支撐帶\\n  腰帶懸掛繩\\n胸帶\\n圖 29   DxW1F 電工安全帶（中華人民共和國國家標準）\\n背部支撐帶\\n懸掛繩腰帶\\n圖 30   DxW2Y 電信工安全帶（中華人民共和國國家標準）'),\n",
       " Document(metadata={'source': '/home/lrctadmin/Documents/LLM/self-llm/models/Qwen/Langchain/knowledgebase/1 安全帶及其繫穩系統的分類與使用指引_勞工處 Oct 2018.pdf', 'page': 56}, page_content='- 50 -參考資料\\n1. 歐盟標準，EN 353-1 及 EN 353-2:2002 防止由高處墮下的個人\\n防護裝備：導向式防墮裝置\\n第 1 部分 - 固定繫穩管線上的導向式防墮裝置的規格\\n第 2 部分 - 彈性繫穩管線上的導向式防墮裝置的規格\\n2. 歐盟標準，EN 360:2002\\n防止由高處墮下的個人防護裝備－伸縮式防墮裝置\\n3. 歐盟標準，EN 361:2002\\n防止由高處墮下的個人防護裝備－全身式吊帶\\n4. 歐盟標準，EN 795:1997\\n防止由高處墮下－繫穩裝置－規格及測試\\n5. 英國標準 (BS 1397:1979)\\n工業用安全帶、吊帶及安全懸掛繩的規格\\n（注意：此標準已被歐盟標準 EN 354, 355, 358, 359, 361, 362,\\n  363, 364, 365 取代）\\n6. 英國標準 (BS 5845:1991)工業用安全帶及吊帶的永久繫穩物\\n（注意：此標準已被歐盟標準 EN 795 : 1997 取代）\\n7. 英國標準 (BS 6858:1987)\\n與工業用安全帶和吊帶一起使用的人手操作定位裝置及附屬繫穩管線'),\n",
       " Document(metadata={'source': '/home/lrctadmin/Documents/LLM/self-llm/models/Qwen/Langchain/knowledgebase/1 安全帶及其繫穩系統的分類與使用指引_勞工處 Oct 2018.pdf', 'page': 57}, page_content='- 51 -8. 英國標準        (BS 7883:1997)\\n 符合歐盟標準              的應用及使用繫穩裝置守則 EN 795\\n9. 美國國家標準（美國國家標準協會，ANSI Z359.1:1992)\\n個人防墮系統、輔助系統及構件的安全規定\\n10. 美國國家標準（美國國家標準協會，ANSI A10.14:1991)建造及拆卸工程－供建造及拆卸用的安全帶、吊帶、懸掛繩及救生繩的規定\\n11. 日本工業標準 (JIS M7624:1994)供礦工使用的安全帶\\n12. 日本工業標準 (JIS T8165:1987)供電訊工使用的安全帶\\n13. 日本勞働省通知書第 67 號日本勞働省安全帶標準，一九七五年九月\\n14. 澳洲 / 新西蘭標準 (AS/NZS1891.1:1995)工業用防墮系統及裝置        \\n第 1 部分：安全帶及吊帶\\n15. 德國標準 (DIN7470) 防止墮下的防護裝備－安全帶、安全規定、測試\\n16. 中華人民共和國、國家標準， GB6095-85\\n安全帶'),\n",
       " Document(metadata={'source': '/home/lrctadmin/Documents/LLM/self-llm/models/Qwen/Langchain/knowledgebase/1 安全帶及其繫穩系統的分類與使用指引_勞工處 Oct 2018.pdf', 'page': 58}, page_content='查詢\\n如你對本指引有任何疑問或想查詢職業安全及健康事宜，可與勞工處\\n職業安全及健康部聯絡：\\n電話 : 2559 2297（非辦公時間設有自動錄音服務）\\n傳真 : 2915 1410\\n電子郵件 : enquiry@labour.gov.hk\\n你也可在互聯網上閱覽勞工處各項服務及主要勞工法例的資料，網址\\nhttp://www.labour.gov.hk。\\n如查詢職業安全健康局提供的服務詳情，請致電 2739 9000。\\n投訴\\n有任何關於不安全工作地點及工序的投訴，請致電勞工處職安健投\\n訴熱線：2542 2172。所有投訴均會絕對保密。'),\n",
       " Document(metadata={'source': '/home/lrctadmin/Documents/LLM/self-llm/models/Qwen/Langchain/knowledgebase/1 安全帶及其繫穩系統的分類與使用指引_勞工處 Oct 2018.pdf', 'page': 59}, page_content='勞工處職業安全及健康部 出版\\n政府物流服務署印10/2018-3-B79'),\n",
       " Document(metadata={'source': '/home/lrctadmin/Documents/LLM/self-llm/models/Qwen/Langchain/knowledgebase/UV-C VentGuard - O&M manual (URA).pdf', 'page': 0}, page_content='©2023 LR IOT LTD. UV-C V\\nentGuard Manual \\nOperations & Maintenance \\n'),\n",
       " Document(metadata={'source': '/home/lrctadmin/Documents/LLM/self-llm/models/Qwen/Langchain/knowledgebase/UV-C VentGuard - O&M manual (URA).pdf', 'page': 1}, page_content='UV-C VentGuard O&M Manual  \\n©2023  LR IOT LTD.  Safety instructions  \\nGeneral information  \\n• Read this instruction manual carefully  before use.  \\n• Keep the instruction manual and the product information safe for future reference.  \\n \\nRestricted user group  \\n• The device may be used by authorized personnel only.  \\n• Electrical maintenance work must  be carried out by registered electrical worker s or authoriz ed \\npersonnel only.  \\n• Keep children away from the appliance.  \\n \\n Warning  \\nThis symbol indicates f ailure to follow the instruction may lead to casualties  or serious injuries.  \\n \\n Caution  \\nThis symbol indicates f ailure to follow the instruction may lead to injuries.  \\n \\n  \\n'),\n",
       " Document(metadata={'source': '/home/lrctadmin/Documents/LLM/self-llm/models/Qwen/Langchain/knowledgebase/UV-C VentGuard - O&M manual (URA).pdf', 'page': 2}, page_content='UV-C VentGuard O&M Manual  \\n©2023  LR IOT LTD.  1 About UV -C VentGuard  \\n1.1 Components  \\n The following is an overview of the device components.  \\n \\n  \\n \\n    \\n1 Top connector  9 Control boards  \\n2 Device body  10 Wires  \\n3 Door  11 Light tube  \\n4 Door lock    \\n5 Bottom connector    \\n6 Antenna    \\n7 Status light indicator    \\n8 Connection to power    \\n    \\n \\n  \\n'),\n",
       " Document(metadata={'source': '/home/lrctadmin/Documents/LLM/self-llm/models/Qwen/Langchain/knowledgebase/UV-C VentGuard - O&M manual (URA).pdf', 'page': 3}, page_content='UV-C VentGuard O&M Manual  \\n©2023  LR IOT LTD.  1.2 Typical set -up  \\n The figure below demonstrates  the typical electrical connection of the device to the power source.  \\n  \\n 1 UV-C VentGuard  \\n2 Support mounting frame   \\n3 Soft conduit  protecting the power cord  \\n4 Water  resistant  electrical box   \\n5 Transformer  \\n6 Fused spur  \\n   \\n1.3 Other information  \\n a. Transformer   \\n The transformer steps down the power source from 220V to 24V for the device to operate. On the \\nfront of the transformer, there is a light indicator marked with “DC OK ”. If electricity  is provided to the \\ndevice, the ind icator will light up in green. If there are issues  with the electricity supply, the indicator \\nwill not  be lit up.  \\n  \\n  \\n  \\n'),\n",
       " Document(metadata={'source': '/home/lrctadmin/Documents/LLM/self-llm/models/Qwen/Langchain/knowledgebase/UV-C VentGuard - O&M manual (URA).pdf', 'page': 4}, page_content='UV-C VentGuard O&M Manual  \\n©2023  LR IOT LTD.   b. Tube p osition  \\n The two figures below illustrate the tube p osition s inside the OD110 and OD160 device s \\nrespectively . The circled number corresponds to the  “Tube X” (X is the number) on the cloud \\nplatform.  Therefore, y ou can use the number as a reference and count the tube starting from the \\ndoor in the clockwise direction to identify the tube that requires replacement. The c olour difference is \\nfor ease of reading only. It does not represent any physical differences  between the tubes.   \\n \\nSVG – ICS/IPS – 110 SVG – ICS/IPS – 160 \\n \\n \\n  \\nc. Consumables  \\n  \\n Item   Details  \\n1 UV-C Light tube   Specification: 2G7 11W  \\n   \\n'),\n",
       " Document(metadata={'source': '/home/lrctadmin/Documents/LLM/self-llm/models/Qwen/Langchain/knowledgebase/UV-C VentGuard - O&M manual (URA).pdf', 'page': 5}, page_content='UV-C VentGuard O&M Manual  \\n©2023 LR IOT LTD.  2  Operations  \\n2.1 Before using the device  \\n  Check the followings before use. \\n• The door is closed tightly  \\n• Both door locks are closed properly  \\n• No loosening of the cable connection to the stainless steel enclosure  \\n• Antenna is tightly mounted  \\n \\n2.2 Cloud platform  \\n It is recommended to log in to the cloud platform prior to switching on or off the device.  \\n  \\n Cloud platform link: https://ura.uvcventguard.com  \\n \\n  \\n2.3 Using the device  \\n a. Switch on the device  \\n Every time when you switch on the device, the device will undergo initialization and light up the UV -\\nC tubes one- by-one. Then the device will connect  and report  data to the cloud platform \\nautomatically.   \\n   The entire set -up process takes about 2 minutes.  Pay attention to the light indicator on the device \\nbody as it will help you identify which stage the set -up process is at and indicate  any issue if exists. \\nTo switch on the device, follow the steps below:  \\n1. Switch on the fused spur inside the electrical box.  \\n2. If the power supply is normal, the “DC OK” light indicator on the transformer will light up in \\ngreen.  \\n3. Then check the light indicator on the device: it should start flashing in red. The below table \\noutlines the different patterns you will see during the set -up process.  \\n  \\nLight indicator  Stage  \\nRed light starts blinking  Set-up process has begun  \\nRed light blinking  continuously  Tube s are being lit up  \\nThe blinkin g process will continue until the system has \\nrun through all the light tubes  \\nIdentifying tubes ON/OFF   \\na. Red light blinking \\ncontinuously , then green \\nlight appears for 1s  A light tube is on  \\n'),\n",
       " Document(metadata={'source': '/home/lrctadmin/Documents/LLM/self-llm/models/Qwen/Langchain/knowledgebase/UV-C VentGuard - O&M manual (URA).pdf', 'page': 6}, page_content='UV-C VentGuard O&M Manual  \\n©2023  LR IOT LTD.  b. Red light blinking \\ncontinuously , then red light \\nappears for 1s  A light tube cannot be turned on  \\nRed light stops blinking , and \\ngreen  light blinks  for 3 times  Light tube set -up is completed  \\nGreen  light blinking  every 2  to \\n3s  Device is communicating with the cloud platform  \\nGreen  light blinking  with \\nalternating brightness  Device is trying to communicate with the cloud platform  \\n4. When the set -up process is  completed, the light indicator will flash green light every 2 to 3 \\nseconds.  \\n5. The device is now running.  \\n \\n \\nNOTE  If the signal strength is weak in the area, the communication between the device and \\nthe cloud platform might delay. The device will flash green light in alternating  \\nbrightness regularly. This does not affect the normal functioning of the device.  \\n \\nYou may visit the project page on the monitoring platform and check the status of \\nthe device you just switched on. You may need to wait for the next update to see \\nif the device goes online . The default report time is 10 minutes interval.  \\n  \\n b. Switch off the device  \\n1. Switch off the fuse d spur inside the electrical box . \\n2. The “DC OK” green light  on the transformer goes  off automatically .  \\n3. The light indicator of the device automatically stops  flashing.  \\n4. After both lights are off, the device is switched off completely.  \\n  \\nNOTE  You may visit the project page  on the monitoring platform and check the status of \\nthe device that you just switched off. You may need to wait for the next update to \\nsee the device goes offline . The default report time is 10 minutes interval.  \\n \\n  '),\n",
       " Document(metadata={'source': '/home/lrctadmin/Documents/LLM/self-llm/models/Qwen/Langchain/knowledgebase/UV-C VentGuard - O&M manual (URA).pdf', 'page': 7}, page_content='UV-C VentGuard O&M Manual  \\n©2023  LR IOT LTD.  3 Maintenance  \\n Warning  \\n \\nMaintenance work related to electricity may only be carried out by registered electrical worker s.  \\nWear appropriate personal protective equipment whenever carrying out maintenance.  \\n \\n \\n3.1 Personal protective equipment list  \\n• Electrically insulated gloves: Prevent electrocution  \\n• Face mask: Prevent virus es or bacteria from entering the respiratory system  \\n• Face cover: Prevent virus es or bacteria from entering the respiratory system  \\n• Safety harness: Prevent falling from height when accessing the device  \\n \\n3.2 If opening the door is required for maintenance    \\n Complete the following before maintenance work begins:  \\n• Follow 2.3b to switch off the device . \\n• Allow the device to cool down for at least 30 minutes before opening the door for inspection.  \\n• Prepare a net with a diameter slightly larger than the vent pipe. After the cool down period, \\nopen the device door and place it over the opening of the vent pipe to prevent any tools or \\ncomponents  from falling into the vent pipe. Keep the net there  throughout the maintenance \\nand remove it  before closing the door.  \\n \\n3.3 Light tube  \\n The average lifespan of the UV -C light tube is around 7,000~ 8,000 hours. When the tube is close to \\nthe end of its recommended service life or no longer functions , an error message will be displayed \\non the monitoring platform.   \\n• Refer to 1.3b to identify the tube that requires  replacement.  \\n• Do not swap the positions of the light tubes if they are not the ones that require replacement. For example,  if tube s 1 and 2 need to be removed in order to access tube 3, after replacing \\ntube 3, tubes  1 and 2 should be inserted back in to their original positions. Swapping the \\npositions will cause inaccuracy in estimating the life span of the tubes.  \\n \\n a. Remove light tube  \\n Follow the preparation procedure in sections 3.1 and 3.2 before replacing any tube. Make sure to \\nlabel the tube if it’s going to be insert ed back into the device.  \\n1. Open the door locks with care.  \\n2. After opening the door, you will see a bunch of wires. Do not pull, unscrew or cut the cables. Avoid twisting or applying strong force on the cables when doing internal maintenance work.  '),\n",
       " Document(metadata={'source': '/home/lrctadmin/Documents/LLM/self-llm/models/Qwen/Langchain/knowledgebase/UV-C VentGuard - O&M manual (URA).pdf', 'page': 8}, page_content='UV-C VentGuard O&M Manual  \\n©2023  LR IOT LTD.  3. Place t he safety net  on top of the vent pipe opening. Make sure the net  is secured properly.   \\n4. To remove the light tube,  slowly pull it down until it is detached from the socket . \\n5. Rotate the tube 90° and remove it from the metal clip.  \\n6. Carefully take out the tube from the device.  \\n7. If Tube 1 does not require replacement , identify the one that needs to be replaced.   \\n8. Repeat step 4 to 6 until you have removed the required tube.   \\n \\n b. Insert light tube  \\n1. Insert the tube into the device with the  4 pins white plug facing upwards.  \\n2. Angle the tube to slide it into the metal clip.  \\n3. Rotate the tube 90° and gently p ush the tube into the socket.  \\n4. Repeat steps 1- 3 until all tubes are inserted into their respective sockets.  \\n \\n c. Cleaning the tube  \\n Cleaning the tube surface is optional. If needed, use a soft cloth soaked with water to wipe the glass \\nsurface of the tube with care.  \\n \\n3.4 Antenna  \\n a. Cleaning the antenna  \\n Cleaning the antenna is optional. If needed, use a soft cloth soaked with water to wipe the antenna \\nwith care.  \\n \\n b. Replace the antenna  \\n1. Lower the vertical / upper  section of the antenna.  \\n2. Hold the connector of the antenna. Slowly unscrew it from the device.  \\n3. Align the connector of the new antenna with the mount on the device. Slowly rotate  the \\nantenna and fasten it on the mount.  \\n4. Adjus t the upper section of the antenna if necessary.  \\n \\n3.5 Power supply / conduit  \\n  Wear  electrically insulated gloves.  \\n Fixing detached soft conduit  \\n The soft conduit might detach from the device body after prolonged use in an outdoor environment. \\nIf this happens, you can fix it with electrical tape.  \\n1. Follow 2.3b to s witch off the device before fixing the soft conduit . \\n2. Use electrical tape to wrap around the detached section. Ensure no gap in the connection.  \\n  \\n'),\n",
       " Document(metadata={'source': '/home/lrctadmin/Documents/LLM/self-llm/models/Qwen/Langchain/knowledgebase/UV-C VentGuard - O&M manual (URA).pdf', 'page': 9}, page_content='UV-C VentGuard O&M Manual  \\n©2023  LR IOT LTD.  3.6 Device body  \\n a. Cleaning the device  \\n The device is designed for outdoor use. Cleaning the device body is optional. Use a soft cloth \\nsoaked with water to wipe the device body , top connector , and bottom connector if necessary.  \\n  \\n b. Removing the device from the vent pipe  \\n1. Follow 2.3b to switch off the device  and let it cool down for 30 minutes.  \\n2. Secure the top section of the vent pipe with rope.  \\n3. Check if there is any caulk around the edge of the bottom connector , which is in contact with \\nthe lower vent pipe. Use a putty knife to remove the caulk.  \\n4. Unfasten the screws holding the device on the mounting frame. These screws are located at \\nthe lower half of the device body.  \\n5. Loosen the screws that are  fastened to the bottom connector.  \\n6. After these two sets of screws are removed, slowly pull the device upwards. You might need \\nto rotate the device left and right while pulling upwards .  \\n7. After removing the device, you can remove the mounting frame by unfas tening all the \\nscrews if necessary.  \\n \\n3.7 Vent pipe replacement  \\n If the upper vent pipe connected to the top connector requires replacement, you can remove the \\npipe without uninstalling the device.  \\n Replace vent pipe  \\n1. Follow 2.3b to switch off the device  and let it cool down for 30 minutes.  \\n2. Secure the top section of the vent pipe with rope.  \\n3. Check if there is any caulk around the edge of the top connector , which is in contact with the \\nupper vent pipe. Use a putty knife to remove the caulk.  \\n4. Loosen the sc rews that are fastened to the top connector.  \\n5. Pull the upper vent pipe upwards to detach it from the device. You might need to rotate the pipe left and right while pulling upwards.  \\n6. Insert the new vent pipe into the top connector.  \\n7. Fasten the screws on the t op connector . \\n8. Use sealant to fill the gap between the top connector and the new vent pipe.  \\n  '),\n",
       " Document(metadata={'source': '/home/lrctadmin/Documents/LLM/self-llm/models/Qwen/Langchain/knowledgebase/UV-C VentGuard - O&M manual (URA).pdf', 'page': 10}, page_content='UV-C VentGuard O&M Manual  \\n©2023  LR IOT LTD.  Troubleshooting  \\n Problem  Solution  \\n TUBE  \\n1 Tube is broken  Follow section 3.3 to replace the tube.  \\n One single light tube not lit \\nup  Potential issue: Tube is not inserted correctly into the socket  \\nSwitch off the device. Open the door and check to ensure the tube is \\ninserted into the socket.  Restart the device.  \\n \\nPotential issue: Tube is broken  \\nFollow s ection 3. 3 to replace the tube.  \\n Tubes not lit on  \\n Potential issue: No power  \\nMake sure the fused spur is switched on and the power s upply in the \\nplant room is on.  \\nIf the “DC OK” light indic ator is on, but the light indicator on the device \\ndoesn’t blink, and the device does not go online on the cloud platform \\nfor a long period, contact customer services to arrange for an \\ninspection.  \\n DEVICE   \\n Device body is damaged  by \\na hard object  If there’s obvious deformation of the device body or the gaps between \\nthe connectors , contact customer support to purchase replacement.  \\n ANTENNA  \\n Antenna is damaged  Depending on the severity of the damage, the antenna might still \\nfunction and does not require replacement.  \\nVisit the cloud platform to check the online status and the report time of \\nthe device. If the device reports regularly , then the antenna does not \\nrequire replacement.  \\n Antenna is lost  Contact customer services to arrange for a replacement . \\n POWER SUPPLY   \\n Fuse d spur is on , but the \\nlight indicator “DC OK” on \\nthe transformer does not \\nlight up  Check the cable connection between the transformer and the fused \\nspur. If the cable is loosened, switch off the fused spur before \\nreconnecting the cables.  \\n \\n \\nRev. 202 2.12 \\n ')]"
      ]
     },
     "execution_count": 6,
     "metadata": {},
     "output_type": "execute_result"
    }
   ],
   "source": [
    "docs"
   ]
  },
  {
   "cell_type": "code",
   "execution_count": 14,
   "id": "dae9b2d3",
   "metadata": {},
   "outputs": [],
   "source": [
    "import nltk"
   ]
  },
  {
   "cell_type": "code",
   "execution_count": 15,
   "id": "48dddd63",
   "metadata": {},
   "outputs": [
    {
     "name": "stderr",
     "output_type": "stream",
     "text": [
      "[nltk_data] Downloading package punkt_tab to\n",
      "[nltk_data]     /home/lrctadmin/nltk_data...\n",
      "[nltk_data]   Unzipping tokenizers/punkt_tab.zip.\n"
     ]
    },
    {
     "data": {
      "text/plain": [
       "True"
      ]
     },
     "execution_count": 15,
     "metadata": {},
     "output_type": "execute_result"
    }
   ],
   "source": [
    "nltk.download('punkt_tab')"
   ]
  },
  {
   "cell_type": "code",
   "execution_count": 17,
   "id": "61fe83e2",
   "metadata": {},
   "outputs": [
    {
     "name": "stderr",
     "output_type": "stream",
     "text": [
      "[nltk_data] Downloading package averaged_perceptron_tagger_eng to\n",
      "[nltk_data]     /home/lrctadmin/nltk_data...\n",
      "[nltk_data]   Unzipping taggers/averaged_perceptron_tagger_eng.zip.\n"
     ]
    },
    {
     "data": {
      "text/plain": [
       "True"
      ]
     },
     "execution_count": 17,
     "metadata": {},
     "output_type": "execute_result"
    }
   ],
   "source": [
    "nltk.download('averaged_perceptron_tagger_eng')"
   ]
  },
  {
   "cell_type": "code",
   "execution_count": 6,
   "id": "8effcb33",
   "metadata": {},
   "outputs": [],
   "source": [
    "# 对文本进行分块\n",
    "text_splitter = RecursiveCharacterTextSplitter(\n",
    "    chunk_size=500, chunk_overlap=150)\n",
    "split_docs = text_splitter.split_documents(docs)\n",
    "\n"
   ]
  },
  {
   "cell_type": "code",
   "execution_count": 7,
   "id": "5f6ed603",
   "metadata": {},
   "outputs": [
    {
     "name": "stderr",
     "output_type": "stream",
     "text": [
      "/home/lrctadmin/anaconda3/envs/py38/lib/python3.8/site-packages/langchain_core/_api/deprecation.py:151: LangChainDeprecationWarning: The class `HuggingFaceEmbeddings` was deprecated in LangChain 0.2.2 and will be removed in 0.3.0. An updated version of the class exists in the langchain-huggingface package and should be used instead. To use it run `pip install -U langchain-huggingface` and import as `from langchain_huggingface import HuggingFaceEmbeddings`.\n",
      "  warn_deprecated(\n",
      "/home/lrctadmin/anaconda3/envs/py38/lib/python3.8/site-packages/transformers/tokenization_utils_base.py:1601: FutureWarning: `clean_up_tokenization_spaces` was not set. It will be set to `True` by default. This behavior will be depracted in transformers v4.45, and will be then set to `False` by default. For more details check this issue: https://github.com/huggingface/transformers/issues/31884\n",
      "  warnings.warn(\n"
     ]
    }
   ],
   "source": [
    "# 加载开源词向量模型\n",
    "embeddings = HuggingFaceEmbeddings(model_name=\"/home/lrctadmin/Documents/LLM/self-llm/models/Qwen/Langchain/embedding_model/paraphrase-multilingual-MiniLM-L12-v2\")\n",
    "\n"
   ]
  },
  {
   "cell_type": "code",
   "execution_count": 8,
   "id": "cc214b2d",
   "metadata": {},
   "outputs": [
    {
     "name": "stderr",
     "output_type": "stream",
     "text": [
      "/home/lrctadmin/anaconda3/envs/py38/lib/python3.8/site-packages/torch/_utils.py:776: UserWarning: TypedStorage is deprecated. It will be removed in the future and UntypedStorage will be the only storage class. This should only matter to you if you are using storages directly.  To access UntypedStorage directly, use tensor.untyped_storage() instead of tensor.storage()\n",
      "  return self.fget.__get__(instance, owner)()\n"
     ]
    }
   ],
   "source": [
    "# 加载开源词向量模型\n",
    "embeddings = HuggingFaceEmbeddings(model_name=\"/home/lrctadmin/Documents/LLM/self-llm/models/Qwen/Langchain/embedding_model/bge-m3\")\n"
   ]
  },
  {
   "cell_type": "code",
   "execution_count": 8,
   "id": "80831c43",
   "metadata": {},
   "outputs": [
    {
     "ename": "InvalidDimensionException",
     "evalue": "Embedding dimension 1024 does not match collection dimensionality 384",
     "output_type": "error",
     "traceback": [
      "\u001b[0;31m---------------------------------------------------------------------------\u001b[0m",
      "\u001b[0;31mInvalidDimensionException\u001b[0m                 Traceback (most recent call last)",
      "Cell \u001b[0;32mIn[8], line 5\u001b[0m\n\u001b[1;32m      3\u001b[0m persist_directory \u001b[38;5;241m=\u001b[39m \u001b[38;5;124m'\u001b[39m\u001b[38;5;124m/home/lrctadmin/Documents/LLM/self-llm/models/Qwen/Langchain/data_base/vector_db/chroma\u001b[39m\u001b[38;5;124m'\u001b[39m\n\u001b[1;32m      4\u001b[0m \u001b[38;5;66;03m# 加载数据库\u001b[39;00m\n\u001b[0;32m----> 5\u001b[0m vectordb \u001b[38;5;241m=\u001b[39m \u001b[43mChroma\u001b[49m\u001b[38;5;241;43m.\u001b[39;49m\u001b[43mfrom_documents\u001b[49m\u001b[43m(\u001b[49m\n\u001b[1;32m      6\u001b[0m \u001b[43m    \u001b[49m\u001b[43mdocuments\u001b[49m\u001b[38;5;241;43m=\u001b[39;49m\u001b[43msplit_docs\u001b[49m\u001b[43m,\u001b[49m\n\u001b[1;32m      7\u001b[0m \u001b[43m    \u001b[49m\u001b[43membedding\u001b[49m\u001b[38;5;241;43m=\u001b[39;49m\u001b[43membeddings\u001b[49m\u001b[43m,\u001b[49m\n\u001b[1;32m      8\u001b[0m \u001b[43m    \u001b[49m\u001b[43mpersist_directory\u001b[49m\u001b[38;5;241;43m=\u001b[39;49m\u001b[43mpersist_directory\u001b[49m\u001b[43m  \u001b[49m\u001b[38;5;66;43;03m# 允许我们将persist_directory目录保存到磁盘上\u001b[39;49;00m\n\u001b[1;32m      9\u001b[0m \u001b[43m)\u001b[49m\n\u001b[1;32m     10\u001b[0m \u001b[38;5;66;03m# 将加载的向量数据库持久化到磁盘上\u001b[39;00m\n\u001b[1;32m     11\u001b[0m vectordb\u001b[38;5;241m.\u001b[39mpersist()\n",
      "File \u001b[0;32m~/anaconda3/envs/py38/lib/python3.8/site-packages/langchain/vectorstores/chroma.py:646\u001b[0m, in \u001b[0;36mChroma.from_documents\u001b[0;34m(cls, documents, embedding, ids, collection_name, persist_directory, client_settings, client, collection_metadata, **kwargs)\u001b[0m\n\u001b[1;32m    644\u001b[0m texts \u001b[38;5;241m=\u001b[39m [doc\u001b[38;5;241m.\u001b[39mpage_content \u001b[38;5;28;01mfor\u001b[39;00m doc \u001b[38;5;129;01min\u001b[39;00m documents]\n\u001b[1;32m    645\u001b[0m metadatas \u001b[38;5;241m=\u001b[39m [doc\u001b[38;5;241m.\u001b[39mmetadata \u001b[38;5;28;01mfor\u001b[39;00m doc \u001b[38;5;129;01min\u001b[39;00m documents]\n\u001b[0;32m--> 646\u001b[0m \u001b[38;5;28;01mreturn\u001b[39;00m \u001b[38;5;28;43mcls\u001b[39;49m\u001b[38;5;241;43m.\u001b[39;49m\u001b[43mfrom_texts\u001b[49m\u001b[43m(\u001b[49m\n\u001b[1;32m    647\u001b[0m \u001b[43m    \u001b[49m\u001b[43mtexts\u001b[49m\u001b[38;5;241;43m=\u001b[39;49m\u001b[43mtexts\u001b[49m\u001b[43m,\u001b[49m\n\u001b[1;32m    648\u001b[0m \u001b[43m    \u001b[49m\u001b[43membedding\u001b[49m\u001b[38;5;241;43m=\u001b[39;49m\u001b[43membedding\u001b[49m\u001b[43m,\u001b[49m\n\u001b[1;32m    649\u001b[0m \u001b[43m    \u001b[49m\u001b[43mmetadatas\u001b[49m\u001b[38;5;241;43m=\u001b[39;49m\u001b[43mmetadatas\u001b[49m\u001b[43m,\u001b[49m\n\u001b[1;32m    650\u001b[0m \u001b[43m    \u001b[49m\u001b[43mids\u001b[49m\u001b[38;5;241;43m=\u001b[39;49m\u001b[43mids\u001b[49m\u001b[43m,\u001b[49m\n\u001b[1;32m    651\u001b[0m \u001b[43m    \u001b[49m\u001b[43mcollection_name\u001b[49m\u001b[38;5;241;43m=\u001b[39;49m\u001b[43mcollection_name\u001b[49m\u001b[43m,\u001b[49m\n\u001b[1;32m    652\u001b[0m \u001b[43m    \u001b[49m\u001b[43mpersist_directory\u001b[49m\u001b[38;5;241;43m=\u001b[39;49m\u001b[43mpersist_directory\u001b[49m\u001b[43m,\u001b[49m\n\u001b[1;32m    653\u001b[0m \u001b[43m    \u001b[49m\u001b[43mclient_settings\u001b[49m\u001b[38;5;241;43m=\u001b[39;49m\u001b[43mclient_settings\u001b[49m\u001b[43m,\u001b[49m\n\u001b[1;32m    654\u001b[0m \u001b[43m    \u001b[49m\u001b[43mclient\u001b[49m\u001b[38;5;241;43m=\u001b[39;49m\u001b[43mclient\u001b[49m\u001b[43m,\u001b[49m\n\u001b[1;32m    655\u001b[0m \u001b[43m    \u001b[49m\u001b[43mcollection_metadata\u001b[49m\u001b[38;5;241;43m=\u001b[39;49m\u001b[43mcollection_metadata\u001b[49m\u001b[43m,\u001b[49m\n\u001b[1;32m    656\u001b[0m \u001b[43m    \u001b[49m\u001b[38;5;241;43m*\u001b[39;49m\u001b[38;5;241;43m*\u001b[39;49m\u001b[43mkwargs\u001b[49m\u001b[43m,\u001b[49m\n\u001b[1;32m    657\u001b[0m \u001b[43m\u001b[49m\u001b[43m)\u001b[49m\n",
      "File \u001b[0;32m~/anaconda3/envs/py38/lib/python3.8/site-packages/langchain/vectorstores/chroma.py:610\u001b[0m, in \u001b[0;36mChroma.from_texts\u001b[0;34m(cls, texts, embedding, metadatas, ids, collection_name, persist_directory, client_settings, client, collection_metadata, **kwargs)\u001b[0m\n\u001b[1;32m    582\u001b[0m \u001b[38;5;250m\u001b[39m\u001b[38;5;124;03m\"\"\"Create a Chroma vectorstore from a raw documents.\u001b[39;00m\n\u001b[1;32m    583\u001b[0m \n\u001b[1;32m    584\u001b[0m \u001b[38;5;124;03mIf a persist_directory is specified, the collection will be persisted there.\u001b[39;00m\n\u001b[0;32m   (...)\u001b[0m\n\u001b[1;32m    599\u001b[0m \u001b[38;5;124;03m    Chroma: Chroma vectorstore.\u001b[39;00m\n\u001b[1;32m    600\u001b[0m \u001b[38;5;124;03m\"\"\"\u001b[39;00m\n\u001b[1;32m    601\u001b[0m chroma_collection \u001b[38;5;241m=\u001b[39m \u001b[38;5;28mcls\u001b[39m(\n\u001b[1;32m    602\u001b[0m     collection_name\u001b[38;5;241m=\u001b[39mcollection_name,\n\u001b[1;32m    603\u001b[0m     embedding_function\u001b[38;5;241m=\u001b[39membedding,\n\u001b[0;32m   (...)\u001b[0m\n\u001b[1;32m    608\u001b[0m     \u001b[38;5;241m*\u001b[39m\u001b[38;5;241m*\u001b[39mkwargs,\n\u001b[1;32m    609\u001b[0m )\n\u001b[0;32m--> 610\u001b[0m \u001b[43mchroma_collection\u001b[49m\u001b[38;5;241;43m.\u001b[39;49m\u001b[43madd_texts\u001b[49m\u001b[43m(\u001b[49m\u001b[43mtexts\u001b[49m\u001b[38;5;241;43m=\u001b[39;49m\u001b[43mtexts\u001b[49m\u001b[43m,\u001b[49m\u001b[43m \u001b[49m\u001b[43mmetadatas\u001b[49m\u001b[38;5;241;43m=\u001b[39;49m\u001b[43mmetadatas\u001b[49m\u001b[43m,\u001b[49m\u001b[43m \u001b[49m\u001b[43mids\u001b[49m\u001b[38;5;241;43m=\u001b[39;49m\u001b[43mids\u001b[49m\u001b[43m)\u001b[49m\n\u001b[1;32m    611\u001b[0m \u001b[38;5;28;01mreturn\u001b[39;00m chroma_collection\n",
      "File \u001b[0;32m~/anaconda3/envs/py38/lib/python3.8/site-packages/langchain/vectorstores/chroma.py:210\u001b[0m, in \u001b[0;36mChroma.add_texts\u001b[0;34m(self, texts, metadatas, ids, **kwargs)\u001b[0m\n\u001b[1;32m    208\u001b[0m ids_with_metadata \u001b[38;5;241m=\u001b[39m [ids[idx] \u001b[38;5;28;01mfor\u001b[39;00m idx \u001b[38;5;129;01min\u001b[39;00m non_empty_ids]\n\u001b[1;32m    209\u001b[0m \u001b[38;5;28;01mtry\u001b[39;00m:\n\u001b[0;32m--> 210\u001b[0m     \u001b[38;5;28;43mself\u001b[39;49m\u001b[38;5;241;43m.\u001b[39;49m\u001b[43m_collection\u001b[49m\u001b[38;5;241;43m.\u001b[39;49m\u001b[43mupsert\u001b[49m\u001b[43m(\u001b[49m\n\u001b[1;32m    211\u001b[0m \u001b[43m        \u001b[49m\u001b[43mmetadatas\u001b[49m\u001b[38;5;241;43m=\u001b[39;49m\u001b[43mmetadatas\u001b[49m\u001b[43m,\u001b[49m\n\u001b[1;32m    212\u001b[0m \u001b[43m        \u001b[49m\u001b[43membeddings\u001b[49m\u001b[38;5;241;43m=\u001b[39;49m\u001b[43membeddings_with_metadatas\u001b[49m\u001b[43m,\u001b[49m\n\u001b[1;32m    213\u001b[0m \u001b[43m        \u001b[49m\u001b[43mdocuments\u001b[49m\u001b[38;5;241;43m=\u001b[39;49m\u001b[43mtexts_with_metadatas\u001b[49m\u001b[43m,\u001b[49m\n\u001b[1;32m    214\u001b[0m \u001b[43m        \u001b[49m\u001b[43mids\u001b[49m\u001b[38;5;241;43m=\u001b[39;49m\u001b[43mids_with_metadata\u001b[49m\u001b[43m,\u001b[49m\n\u001b[1;32m    215\u001b[0m \u001b[43m    \u001b[49m\u001b[43m)\u001b[49m\n\u001b[1;32m    216\u001b[0m \u001b[38;5;28;01mexcept\u001b[39;00m \u001b[38;5;167;01mValueError\u001b[39;00m \u001b[38;5;28;01mas\u001b[39;00m e:\n\u001b[1;32m    217\u001b[0m     \u001b[38;5;28;01mif\u001b[39;00m \u001b[38;5;124m\"\u001b[39m\u001b[38;5;124mExpected metadata value to be\u001b[39m\u001b[38;5;124m\"\u001b[39m \u001b[38;5;129;01min\u001b[39;00m \u001b[38;5;28mstr\u001b[39m(e):\n",
      "File \u001b[0;32m~/anaconda3/envs/py38/lib/python3.8/site-packages/chromadb/api/models/Collection.py:299\u001b[0m, in \u001b[0;36mCollection.upsert\u001b[0;34m(self, ids, embeddings, metadatas, documents)\u001b[0m\n\u001b[1;32m    283\u001b[0m \u001b[38;5;250m\u001b[39m\u001b[38;5;124;03m\"\"\"Update the embeddings, metadatas or documents for provided ids, or create them if they don't exist.\u001b[39;00m\n\u001b[1;32m    284\u001b[0m \n\u001b[1;32m    285\u001b[0m \u001b[38;5;124;03mArgs:\u001b[39;00m\n\u001b[0;32m   (...)\u001b[0m\n\u001b[1;32m    292\u001b[0m \u001b[38;5;124;03m    None\u001b[39;00m\n\u001b[1;32m    293\u001b[0m \u001b[38;5;124;03m\"\"\"\u001b[39;00m\n\u001b[1;32m    295\u001b[0m ids, embeddings, metadatas, documents \u001b[38;5;241m=\u001b[39m \u001b[38;5;28mself\u001b[39m\u001b[38;5;241m.\u001b[39m_validate_embedding_set(\n\u001b[1;32m    296\u001b[0m     ids, embeddings, metadatas, documents\n\u001b[1;32m    297\u001b[0m )\n\u001b[0;32m--> 299\u001b[0m \u001b[38;5;28;43mself\u001b[39;49m\u001b[38;5;241;43m.\u001b[39;49m\u001b[43m_client\u001b[49m\u001b[38;5;241;43m.\u001b[39;49m\u001b[43m_upsert\u001b[49m\u001b[43m(\u001b[49m\n\u001b[1;32m    300\u001b[0m \u001b[43m    \u001b[49m\u001b[43mcollection_id\u001b[49m\u001b[38;5;241;43m=\u001b[39;49m\u001b[38;5;28;43mself\u001b[39;49m\u001b[38;5;241;43m.\u001b[39;49m\u001b[43mid\u001b[49m\u001b[43m,\u001b[49m\n\u001b[1;32m    301\u001b[0m \u001b[43m    \u001b[49m\u001b[43mids\u001b[49m\u001b[38;5;241;43m=\u001b[39;49m\u001b[43mids\u001b[49m\u001b[43m,\u001b[49m\n\u001b[1;32m    302\u001b[0m \u001b[43m    \u001b[49m\u001b[43membeddings\u001b[49m\u001b[38;5;241;43m=\u001b[39;49m\u001b[43membeddings\u001b[49m\u001b[43m,\u001b[49m\n\u001b[1;32m    303\u001b[0m \u001b[43m    \u001b[49m\u001b[43mmetadatas\u001b[49m\u001b[38;5;241;43m=\u001b[39;49m\u001b[43mmetadatas\u001b[49m\u001b[43m,\u001b[49m\n\u001b[1;32m    304\u001b[0m \u001b[43m    \u001b[49m\u001b[43mdocuments\u001b[49m\u001b[38;5;241;43m=\u001b[39;49m\u001b[43mdocuments\u001b[49m\u001b[43m,\u001b[49m\n\u001b[1;32m    305\u001b[0m \u001b[43m\u001b[49m\u001b[43m)\u001b[49m\n",
      "File \u001b[0;32m~/anaconda3/envs/py38/lib/python3.8/site-packages/chromadb/telemetry/opentelemetry/__init__.py:127\u001b[0m, in \u001b[0;36mtrace_method.<locals>.decorator.<locals>.wrapper\u001b[0;34m(*args, **kwargs)\u001b[0m\n\u001b[1;32m    125\u001b[0m \u001b[38;5;28;01mglobal\u001b[39;00m tracer, granularity\n\u001b[1;32m    126\u001b[0m \u001b[38;5;28;01mif\u001b[39;00m trace_granularity \u001b[38;5;241m<\u001b[39m granularity:\n\u001b[0;32m--> 127\u001b[0m     \u001b[38;5;28;01mreturn\u001b[39;00m \u001b[43mf\u001b[49m\u001b[43m(\u001b[49m\u001b[38;5;241;43m*\u001b[39;49m\u001b[43margs\u001b[49m\u001b[43m,\u001b[49m\u001b[43m \u001b[49m\u001b[38;5;241;43m*\u001b[39;49m\u001b[38;5;241;43m*\u001b[39;49m\u001b[43mkwargs\u001b[49m\u001b[43m)\u001b[49m\n\u001b[1;32m    128\u001b[0m \u001b[38;5;28;01mif\u001b[39;00m \u001b[38;5;129;01mnot\u001b[39;00m tracer:\n\u001b[1;32m    129\u001b[0m     \u001b[38;5;28;01mreturn\u001b[39;00m f(\u001b[38;5;241m*\u001b[39margs, \u001b[38;5;241m*\u001b[39m\u001b[38;5;241m*\u001b[39mkwargs)\n",
      "File \u001b[0;32m~/anaconda3/envs/py38/lib/python3.8/site-packages/chromadb/api/segment.py:406\u001b[0m, in \u001b[0;36mSegmentAPI._upsert\u001b[0;34m(self, collection_id, ids, embeddings, metadatas, documents)\u001b[0m\n\u001b[1;32m    398\u001b[0m records_to_submit \u001b[38;5;241m=\u001b[39m []\n\u001b[1;32m    399\u001b[0m \u001b[38;5;28;01mfor\u001b[39;00m r \u001b[38;5;129;01min\u001b[39;00m _records(\n\u001b[1;32m    400\u001b[0m     t\u001b[38;5;241m.\u001b[39mOperation\u001b[38;5;241m.\u001b[39mUPSERT,\n\u001b[1;32m    401\u001b[0m     ids\u001b[38;5;241m=\u001b[39mids,\n\u001b[0;32m   (...)\u001b[0m\n\u001b[1;32m    404\u001b[0m     documents\u001b[38;5;241m=\u001b[39mdocuments,\n\u001b[1;32m    405\u001b[0m ):\n\u001b[0;32m--> 406\u001b[0m     \u001b[38;5;28;43mself\u001b[39;49m\u001b[38;5;241;43m.\u001b[39;49m\u001b[43m_validate_embedding_record\u001b[49m\u001b[43m(\u001b[49m\u001b[43mcoll\u001b[49m\u001b[43m,\u001b[49m\u001b[43m \u001b[49m\u001b[43mr\u001b[49m\u001b[43m)\u001b[49m\n\u001b[1;32m    407\u001b[0m     records_to_submit\u001b[38;5;241m.\u001b[39mappend(r)\n\u001b[1;32m    408\u001b[0m \u001b[38;5;28mself\u001b[39m\u001b[38;5;241m.\u001b[39m_producer\u001b[38;5;241m.\u001b[39msubmit_embeddings(coll[\u001b[38;5;124m\"\u001b[39m\u001b[38;5;124mtopic\u001b[39m\u001b[38;5;124m\"\u001b[39m], records_to_submit)\n",
      "File \u001b[0;32m~/anaconda3/envs/py38/lib/python3.8/site-packages/chromadb/telemetry/opentelemetry/__init__.py:127\u001b[0m, in \u001b[0;36mtrace_method.<locals>.decorator.<locals>.wrapper\u001b[0;34m(*args, **kwargs)\u001b[0m\n\u001b[1;32m    125\u001b[0m \u001b[38;5;28;01mglobal\u001b[39;00m tracer, granularity\n\u001b[1;32m    126\u001b[0m \u001b[38;5;28;01mif\u001b[39;00m trace_granularity \u001b[38;5;241m<\u001b[39m granularity:\n\u001b[0;32m--> 127\u001b[0m     \u001b[38;5;28;01mreturn\u001b[39;00m \u001b[43mf\u001b[49m\u001b[43m(\u001b[49m\u001b[38;5;241;43m*\u001b[39;49m\u001b[43margs\u001b[49m\u001b[43m,\u001b[49m\u001b[43m \u001b[49m\u001b[38;5;241;43m*\u001b[39;49m\u001b[38;5;241;43m*\u001b[39;49m\u001b[43mkwargs\u001b[49m\u001b[43m)\u001b[49m\n\u001b[1;32m    128\u001b[0m \u001b[38;5;28;01mif\u001b[39;00m \u001b[38;5;129;01mnot\u001b[39;00m tracer:\n\u001b[1;32m    129\u001b[0m     \u001b[38;5;28;01mreturn\u001b[39;00m f(\u001b[38;5;241m*\u001b[39margs, \u001b[38;5;241m*\u001b[39m\u001b[38;5;241m*\u001b[39mkwargs)\n",
      "File \u001b[0;32m~/anaconda3/envs/py38/lib/python3.8/site-packages/chromadb/api/segment.py:716\u001b[0m, in \u001b[0;36mSegmentAPI._validate_embedding_record\u001b[0;34m(self, collection, record)\u001b[0m\n\u001b[1;32m    714\u001b[0m add_attributes_to_current_span({\u001b[38;5;124m\"\u001b[39m\u001b[38;5;124mcollection_id\u001b[39m\u001b[38;5;124m\"\u001b[39m: \u001b[38;5;28mstr\u001b[39m(collection[\u001b[38;5;124m\"\u001b[39m\u001b[38;5;124mid\u001b[39m\u001b[38;5;124m\"\u001b[39m])})\n\u001b[1;32m    715\u001b[0m \u001b[38;5;28;01mif\u001b[39;00m record[\u001b[38;5;124m\"\u001b[39m\u001b[38;5;124membedding\u001b[39m\u001b[38;5;124m\"\u001b[39m]:\n\u001b[0;32m--> 716\u001b[0m     \u001b[38;5;28;43mself\u001b[39;49m\u001b[38;5;241;43m.\u001b[39;49m\u001b[43m_validate_dimension\u001b[49m\u001b[43m(\u001b[49m\u001b[43mcollection\u001b[49m\u001b[43m,\u001b[49m\u001b[43m \u001b[49m\u001b[38;5;28;43mlen\u001b[39;49m\u001b[43m(\u001b[49m\u001b[43mrecord\u001b[49m\u001b[43m[\u001b[49m\u001b[38;5;124;43m\"\u001b[39;49m\u001b[38;5;124;43membedding\u001b[39;49m\u001b[38;5;124;43m\"\u001b[39;49m\u001b[43m]\u001b[49m\u001b[43m)\u001b[49m\u001b[43m,\u001b[49m\u001b[43m \u001b[49m\u001b[43mupdate\u001b[49m\u001b[38;5;241;43m=\u001b[39;49m\u001b[38;5;28;43;01mTrue\u001b[39;49;00m\u001b[43m)\u001b[49m\n",
      "File \u001b[0;32m~/anaconda3/envs/py38/lib/python3.8/site-packages/chromadb/telemetry/opentelemetry/__init__.py:127\u001b[0m, in \u001b[0;36mtrace_method.<locals>.decorator.<locals>.wrapper\u001b[0;34m(*args, **kwargs)\u001b[0m\n\u001b[1;32m    125\u001b[0m \u001b[38;5;28;01mglobal\u001b[39;00m tracer, granularity\n\u001b[1;32m    126\u001b[0m \u001b[38;5;28;01mif\u001b[39;00m trace_granularity \u001b[38;5;241m<\u001b[39m granularity:\n\u001b[0;32m--> 127\u001b[0m     \u001b[38;5;28;01mreturn\u001b[39;00m \u001b[43mf\u001b[49m\u001b[43m(\u001b[49m\u001b[38;5;241;43m*\u001b[39;49m\u001b[43margs\u001b[49m\u001b[43m,\u001b[49m\u001b[43m \u001b[49m\u001b[38;5;241;43m*\u001b[39;49m\u001b[38;5;241;43m*\u001b[39;49m\u001b[43mkwargs\u001b[49m\u001b[43m)\u001b[49m\n\u001b[1;32m    128\u001b[0m \u001b[38;5;28;01mif\u001b[39;00m \u001b[38;5;129;01mnot\u001b[39;00m tracer:\n\u001b[1;32m    129\u001b[0m     \u001b[38;5;28;01mreturn\u001b[39;00m f(\u001b[38;5;241m*\u001b[39margs, \u001b[38;5;241m*\u001b[39m\u001b[38;5;241m*\u001b[39mkwargs)\n",
      "File \u001b[0;32m~/anaconda3/envs/py38/lib/python3.8/site-packages/chromadb/api/segment.py:731\u001b[0m, in \u001b[0;36mSegmentAPI._validate_dimension\u001b[0;34m(self, collection, dim, update)\u001b[0m\n\u001b[1;32m    729\u001b[0m         \u001b[38;5;28mself\u001b[39m\u001b[38;5;241m.\u001b[39m_collection_cache[\u001b[38;5;28mid\u001b[39m][\u001b[38;5;124m\"\u001b[39m\u001b[38;5;124mdimension\u001b[39m\u001b[38;5;124m\"\u001b[39m] \u001b[38;5;241m=\u001b[39m dim\n\u001b[1;32m    730\u001b[0m \u001b[38;5;28;01melif\u001b[39;00m collection[\u001b[38;5;124m\"\u001b[39m\u001b[38;5;124mdimension\u001b[39m\u001b[38;5;124m\"\u001b[39m] \u001b[38;5;241m!=\u001b[39m dim:\n\u001b[0;32m--> 731\u001b[0m     \u001b[38;5;28;01mraise\u001b[39;00m InvalidDimensionException(\n\u001b[1;32m    732\u001b[0m         \u001b[38;5;124mf\u001b[39m\u001b[38;5;124m\"\u001b[39m\u001b[38;5;124mEmbedding dimension \u001b[39m\u001b[38;5;132;01m{\u001b[39;00mdim\u001b[38;5;132;01m}\u001b[39;00m\u001b[38;5;124m does not match collection dimensionality \u001b[39m\u001b[38;5;132;01m{\u001b[39;00mcollection[\u001b[38;5;124m'\u001b[39m\u001b[38;5;124mdimension\u001b[39m\u001b[38;5;124m'\u001b[39m]\u001b[38;5;132;01m}\u001b[39;00m\u001b[38;5;124m\"\u001b[39m\n\u001b[1;32m    733\u001b[0m     )\n\u001b[1;32m    734\u001b[0m \u001b[38;5;28;01melse\u001b[39;00m:\n\u001b[1;32m    735\u001b[0m     \u001b[38;5;28;01mreturn\u001b[39;00m\n",
      "\u001b[0;31mInvalidDimensionException\u001b[0m: Embedding dimension 1024 does not match collection dimensionality 384"
     ]
    }
   ],
   "source": [
    "# 构建向量数据库\n",
    "# 定义持久化路径\n",
    "persist_directory = '/home/lrctadmin/Documents/LLM/self-llm/models/Qwen/Langchain/data_base/vector_db/chroma'\n",
    "# 加载数据库\n",
    "vectordb = Chroma.from_documents(\n",
    "    documents=split_docs,\n",
    "    embedding=embeddings,\n",
    "    persist_directory=persist_directory  # 允许我们将persist_directory目录保存到磁盘上\n",
    ")\n",
    "# 将加载的向量数据库持久化到磁盘上\n",
    "vectordb.persist()"
   ]
  },
  {
   "cell_type": "code",
   "execution_count": 9,
   "id": "6b0265d7",
   "metadata": {},
   "outputs": [
    {
     "name": "stderr",
     "output_type": "stream",
     "text": [
      "/home/lrctadmin/anaconda3/envs/py38/lib/python3.8/site-packages/langchain_core/_api/deprecation.py:151: LangChainDeprecationWarning: Since Chroma 0.4.x the manual persistence method is no longer supported as docs are automatically persisted.\n",
      "  warn_deprecated(\n"
     ]
    }
   ],
   "source": [
    "# 构建向量数据库\n",
    "# 定义持久化路径\n",
    "persist_directory = '/home/lrctadmin/Documents/LLM/self-llm/models/Qwen/Langchain/data_base/vector_db/bge-m3'\n",
    "# 加载数据库\n",
    "vectordb = Chroma.from_documents(\n",
    "    documents=split_docs,\n",
    "    embedding=embeddings,\n",
    "    persist_directory=persist_directory  # 允许我们将persist_directory目录保存到磁盘上\n",
    ")\n",
    "# 将加载的向量数据库持久化到磁盘上\n",
    "vectordb.persist()"
   ]
  },
  {
   "cell_type": "code",
   "execution_count": null,
   "id": "913753d7",
   "metadata": {},
   "outputs": [],
   "source": []
  }
 ],
 "metadata": {
  "kernelspec": {
   "display_name": "Python [conda env:py38] *",
   "language": "python",
   "name": "conda-env-py38-py"
  },
  "language_info": {
   "codemirror_mode": {
    "name": "ipython",
    "version": 3
   },
   "file_extension": ".py",
   "mimetype": "text/x-python",
   "name": "python",
   "nbconvert_exporter": "python",
   "pygments_lexer": "ipython3",
   "version": "3.8.19"
  }
 },
 "nbformat": 4,
 "nbformat_minor": 5
}
